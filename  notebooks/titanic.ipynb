{
 "cells": [
  {
   "cell_type": "markdown",
   "metadata": {
    "_cell_guid": "6a09d4fb-60c5-4f45-b844-8c788a50c543",
    "_uuid": "8e892e637f005dd61ec7dcb95865e52f3de2a77f",
    "tags": []
   },
   "source": [
    "*This is a translated (and extended in some places) version of the original titanic-solution-a-beginner-s-guide *\n",
    "\n",
    "# TITANIC SOLUTION (translated into RU)\n",
    "### Руководство для начинающих\n",
    "- [Разедочный анализ и визуализация](#title1) (Exploratory Data Analysis (EDA) with Visualization)\n",
    "- [Выделение признаков](#title2) (Feature Extraction)\n",
    "- [Моделирование](#title3) (Data Modelling)\n",
    "- [Предсказания / Вычисления по моделям](#title4) (Model Evaluation)\n",
    "- [Ансамбли моделей](#title5)\n",
    "\n",
    "|   |   |   |   |\n",
    "|---|---|---|---|\n",
    "|![](https://pandas.pydata.org/_static/pandas_logo.png)|![](https://scikit-learn.org/stable/_static/scikit-learn-logo-small.png)|![](https://numpy.org/_static/numpy_logo.png)|![](https://matplotlib.org/_static/logo2.png)|\n",
    "\n",
    "-------"
   ]
  },
  {
   "cell_type": "markdown",
   "metadata": {
    "_cell_guid": "4af5e83d-7fd8-4a61-bf26-9583cb6d3476",
    "_uuid": "65d04d276a8983f62a49261f6e94a02b281dbcc9"
   },
   "source": [
    "## Подключение зависимостей / Загрузка библиотек"
   ]
  },
  {
   "cell_type": "code",
   "execution_count": 1,
   "metadata": {
    "_cell_guid": "868e55e4-03fd-4a11-a549-10febd722d11",
    "_uuid": "842d8d39aab673f814761aac46acffc5d4c332ba",
    "tags": []
   },
   "outputs": [
    {
     "name": "stderr",
     "output_type": "stream",
     "text": [
      "/usr/local/lib/python3.10/dist-packages/pandas/core/arrays/masked.py:62: UserWarning: Pandas requires version '1.3.4' or newer of 'bottleneck' (version '1.3.2' currently installed).\n",
      "  from pandas.core import (\n",
      "/usr/lib/python3/dist-packages/scipy/__init__.py:146: UserWarning: A NumPy version >=1.17.3 and <1.25.0 is required for this version of SciPy (detected version 1.26.4\n",
      "  warnings.warn(f\"A NumPy version >={np_minversion} and <{np_maxversion}\"\n"
     ]
    }
   ],
   "source": [
    "import pandas as pd\n",
    "import numpy as np\n",
    "import matplotlib.pyplot as plt\n",
    "%matplotlib inline\n",
    "import seaborn as sns\n",
    "sns.set() # устанавливаем seaborn как по-умолчанию для отрисовки графиков"
   ]
  },
  {
   "cell_type": "markdown",
   "metadata": {
    "_cell_guid": "3f529075-7f9b-40ff-a79a-f3a11a7d8cbe",
    "_uuid": "64ca0f815766e3e8074b0e04f53947930cb061aa"
   },
   "source": [
    "### Загрузка датасетов\n",
    "В состав предлагаемого датасеты включены 2 набора данных:\n",
    "* Обучающий (```train```) \n",
    "* Тестовый (```test```)\n",
    "\n",
    "Их нужно загрузить в локальные переменные. Загружаем обучающий и тестовый наборы данных с помощью библиотеки ```pandas```, она же - ```pd``` в нашем примере. Для этого используем стандартные метод ```.read_csv(..)```, принимающий на вход путь к файлу с данными.\n"
   ]
  },
  {
   "cell_type": "code",
   "execution_count": 2,
   "metadata": {
    "_cell_guid": "e58a3f06-4c2a-4b87-90de-f8b09039fd4e",
    "_uuid": "46f0b12d7bf66712642e9a9b807f5ef398426b83",
    "tags": []
   },
   "outputs": [],
   "source": [
    "train = pd.read_csv('../data/raw/train.csv')\n",
    "test = pd.read_csv('../data/raw/test.csv')"
   ]
  },
  {
   "cell_type": "markdown",
   "metadata": {
    "_cell_guid": "836a454f-17bc-41a2-be69-cd86c6f3b584",
    "_uuid": "1ed3ad39ead93977b8936d9c96e6f6f806a8f9b3"
   },
   "source": [
    "## Разведочный (исследовательский) анализ <a class=\"anchor\" id=\"title1\"></a>\n",
    "### Исследуем обучающий набор (train)\n",
    "Анализ данных и, вообще их исследование, начинается с того, что **просто** глазами **смотрим** на то, что находится внутри .csv файлов. Для этого достаточно вывести на экран первые несколько строк загруженных таблиц. \n",
    "\n",
    "Метод ```.head()``` поможет нам в этом. С его помощью печатаем первые 5 строк из обучающей выборки (**train dataset**):"
   ]
  },
  {
   "cell_type": "code",
   "execution_count": 3,
   "metadata": {
    "_cell_guid": "749a3d70-394c-4d2c-999a-4d0567e39232",
    "_uuid": "b9fdb3b19d7a8f30cd0bb69ae434e04121ecba93",
    "tags": []
   },
   "outputs": [
    {
     "data": {
      "text/html": [
       "<div>\n",
       "<style scoped>\n",
       "    .dataframe tbody tr th:only-of-type {\n",
       "        vertical-align: middle;\n",
       "    }\n",
       "\n",
       "    .dataframe tbody tr th {\n",
       "        vertical-align: top;\n",
       "    }\n",
       "\n",
       "    .dataframe thead th {\n",
       "        text-align: right;\n",
       "    }\n",
       "</style>\n",
       "<table border=\"1\" class=\"dataframe\">\n",
       "  <thead>\n",
       "    <tr style=\"text-align: right;\">\n",
       "      <th></th>\n",
       "      <th>PassengerId</th>\n",
       "      <th>Survived</th>\n",
       "      <th>Pclass</th>\n",
       "      <th>Name</th>\n",
       "      <th>Sex</th>\n",
       "      <th>Age</th>\n",
       "      <th>SibSp</th>\n",
       "      <th>Parch</th>\n",
       "      <th>Ticket</th>\n",
       "      <th>Fare</th>\n",
       "      <th>Cabin</th>\n",
       "      <th>Embarked</th>\n",
       "    </tr>\n",
       "  </thead>\n",
       "  <tbody>\n",
       "    <tr>\n",
       "      <th>0</th>\n",
       "      <td>1</td>\n",
       "      <td>0</td>\n",
       "      <td>3</td>\n",
       "      <td>Braund, Mr. Owen Harris</td>\n",
       "      <td>male</td>\n",
       "      <td>22.0</td>\n",
       "      <td>1</td>\n",
       "      <td>0</td>\n",
       "      <td>A/5 21171</td>\n",
       "      <td>7.2500</td>\n",
       "      <td>NaN</td>\n",
       "      <td>S</td>\n",
       "    </tr>\n",
       "    <tr>\n",
       "      <th>1</th>\n",
       "      <td>2</td>\n",
       "      <td>1</td>\n",
       "      <td>1</td>\n",
       "      <td>Cumings, Mrs. John Bradley (Florence Briggs Th...</td>\n",
       "      <td>female</td>\n",
       "      <td>38.0</td>\n",
       "      <td>1</td>\n",
       "      <td>0</td>\n",
       "      <td>PC 17599</td>\n",
       "      <td>71.2833</td>\n",
       "      <td>C85</td>\n",
       "      <td>C</td>\n",
       "    </tr>\n",
       "    <tr>\n",
       "      <th>2</th>\n",
       "      <td>3</td>\n",
       "      <td>1</td>\n",
       "      <td>3</td>\n",
       "      <td>Heikkinen, Miss. Laina</td>\n",
       "      <td>female</td>\n",
       "      <td>26.0</td>\n",
       "      <td>0</td>\n",
       "      <td>0</td>\n",
       "      <td>STON/O2. 3101282</td>\n",
       "      <td>7.9250</td>\n",
       "      <td>NaN</td>\n",
       "      <td>S</td>\n",
       "    </tr>\n",
       "    <tr>\n",
       "      <th>3</th>\n",
       "      <td>4</td>\n",
       "      <td>1</td>\n",
       "      <td>1</td>\n",
       "      <td>Futrelle, Mrs. Jacques Heath (Lily May Peel)</td>\n",
       "      <td>female</td>\n",
       "      <td>35.0</td>\n",
       "      <td>1</td>\n",
       "      <td>0</td>\n",
       "      <td>113803</td>\n",
       "      <td>53.1000</td>\n",
       "      <td>C123</td>\n",
       "      <td>S</td>\n",
       "    </tr>\n",
       "    <tr>\n",
       "      <th>4</th>\n",
       "      <td>5</td>\n",
       "      <td>0</td>\n",
       "      <td>3</td>\n",
       "      <td>Allen, Mr. William Henry</td>\n",
       "      <td>male</td>\n",
       "      <td>35.0</td>\n",
       "      <td>0</td>\n",
       "      <td>0</td>\n",
       "      <td>373450</td>\n",
       "      <td>8.0500</td>\n",
       "      <td>NaN</td>\n",
       "      <td>S</td>\n",
       "    </tr>\n",
       "  </tbody>\n",
       "</table>\n",
       "</div>"
      ],
      "text/plain": [
       "   PassengerId  Survived  Pclass  \\\n",
       "0            1         0       3   \n",
       "1            2         1       1   \n",
       "2            3         1       3   \n",
       "3            4         1       1   \n",
       "4            5         0       3   \n",
       "\n",
       "                                                Name     Sex   Age  SibSp  \\\n",
       "0                            Braund, Mr. Owen Harris    male  22.0      1   \n",
       "1  Cumings, Mrs. John Bradley (Florence Briggs Th...  female  38.0      1   \n",
       "2                             Heikkinen, Miss. Laina  female  26.0      0   \n",
       "3       Futrelle, Mrs. Jacques Heath (Lily May Peel)  female  35.0      1   \n",
       "4                           Allen, Mr. William Henry    male  35.0      0   \n",
       "\n",
       "   Parch            Ticket     Fare Cabin Embarked  \n",
       "0      0         A/5 21171   7.2500   NaN        S  \n",
       "1      0          PC 17599  71.2833   C85        C  \n",
       "2      0  STON/O2. 3101282   7.9250   NaN        S  \n",
       "3      0            113803  53.1000  C123        S  \n",
       "4      0            373450   8.0500   NaN        S  "
      ]
     },
     "execution_count": 3,
     "metadata": {},
     "output_type": "execute_result"
    }
   ],
   "source": [
    "train.head()"
   ]
  },
  {
   "cell_type": "markdown",
   "metadata": {
    "_cell_guid": "0497d419-fbd1-4d07-aa76-362bcbd8ccbd",
    "_uuid": "ec81a873a564c743619d802c8b2ce8bbcc107418"
   },
   "source": [
    "Результат работы функции - предпросмотр загруженных данных. Рассмотрим внимательнее, что содержится в данном датасете. Ниже представлена краткая информация о каждом из стобцов датасета:\n",
    "\n",
    "1. **PassengerId:** Уникальный индекс/номер строки. Начинается с 1 (для первой строки) и увеличивается на 1 для каждой следующей. Рассматриваем его как индентификатор строки и, что логично, идентификатор пассжира (т.к. для каждого пассажира в датасете представлена только одна строка).\n",
    "2. **Survived:** Признак, показывающий был ли спасен данный пассажир или нет. 1 означает, что удалось выжить, и 0 - не удалось спастись.\n",
    "3. **Pclass:** Класс билета. 1 - означает Первый класс билета. 2 - означает Второй класс билета. 3 - означает Третий класс билета.\n",
    "4. **Name:** Имя пассажира. Имя также может содержать титулы и обращения. \"Mr\" для мужчин. \"Mrs\" для женщин. \"Miss\" для девушек (тут имеется в виду что для тех, кто не замужем, так было принято, да и сейчас тоже, говорить в западном обществе). \"Master\" для юношей.\n",
    "5. **Sex:** Пол пассажира. Либо мужчины (=Male) оибо женщины (=Female).\n",
    "6. **Age:** Возраст пассажира. \"NaN\" значения в этой колонке означают, что возраст данного пассажира отсутствует/неизвестен/или не был записанv в датасет.\n",
    "7. **SibSp:** Количество братьев/сестер или супругов, путешествующих с каждым пассажиром.\n",
    "8. **Parch:** Количество родителей детей (Number of parents of children travelling with each passenger).\n",
    "9. **Ticket:** Номер билета.\n",
    "10. **Fare:** Сумма, которую заплатил пассажир за путешествие.\n",
    "11. **Cabin:** Номер каюты пассажира. \"NaN\" значения в этой колонке указавает на то, что номер каюты данного пассажира не был записан.\n",
    "12. **Embarked:** Порт отправления данного пассажира."
   ]
  },
  {
   "cell_type": "markdown",
   "metadata": {
    "_cell_guid": "5ebc1e0e-2b5a-4d92-98e0-defa019d4439",
    "_uuid": "1892fbb34b26d775d1c428fdb7b6254449286b28"
   },
   "source": [
    "##### Общее количество записей и столбцов\n",
    "\n",
    "Помимо примеров данных, нам нужно понимать размерности, т.е. сколько всего строк/столбцов присутсвует в загруженных файлах. \n",
    "\n",
    "Свойство ```.shape``` возвращает данную информацию. Так, мы видим, что всего в обучающем наборе содержатся 891 строка/запись и 12 столбцов."
   ]
  },
  {
   "cell_type": "code",
   "execution_count": 4,
   "metadata": {
    "_cell_guid": "ed1e7849-d1b6-490d-b86b-9ca71dfafc7d",
    "_uuid": "5a641beccf0e555dfd7b9a53a17188ea6edef95b",
    "tags": []
   },
   "outputs": [
    {
     "data": {
      "text/plain": [
       "(700, 12)"
      ]
     },
     "execution_count": 4,
     "metadata": {},
     "output_type": "execute_result"
    }
   ],
   "source": [
    "train.shape"
   ]
  },
  {
   "cell_type": "markdown",
   "metadata": {
    "_cell_guid": "920468dd-81c0-48dc-82fa-69e8a1354a26",
    "_uuid": "48d0bd9d409cee7fa2e133aea90b7a904a662c11"
   },
   "source": [
    "##### Описание обучающего набора\n",
    "\n",
    "```.describe()``` \n",
    "отобразит различные величины, такие как _количесmво_, _среднее_, _среднеквадратичное отклонение_ и т.д. для **численных** типов данных.\n",
    "\n",
    "Это может быть полезным для понимания распределения значений по датасету и статистики, особенно когда нет возможности просмотреть все записи в виду огромного их количества (_датасет Титаник к ним не относится, т.к. даже 1000 строчек при желании можно просмотреть глазами_). "
   ]
  },
  {
   "cell_type": "code",
   "execution_count": 5,
   "metadata": {
    "_cell_guid": "9f06085f-d1e4-46a1-ba62-e396e20af4ab",
    "_uuid": "d91b32b65a5f0a845899d301052ea420c79809a6",
    "scrolled": true,
    "tags": []
   },
   "outputs": [
    {
     "data": {
      "text/html": [
       "<div>\n",
       "<style scoped>\n",
       "    .dataframe tbody tr th:only-of-type {\n",
       "        vertical-align: middle;\n",
       "    }\n",
       "\n",
       "    .dataframe tbody tr th {\n",
       "        vertical-align: top;\n",
       "    }\n",
       "\n",
       "    .dataframe thead th {\n",
       "        text-align: right;\n",
       "    }\n",
       "</style>\n",
       "<table border=\"1\" class=\"dataframe\">\n",
       "  <thead>\n",
       "    <tr style=\"text-align: right;\">\n",
       "      <th></th>\n",
       "      <th>PassengerId</th>\n",
       "      <th>Survived</th>\n",
       "      <th>Pclass</th>\n",
       "      <th>Age</th>\n",
       "      <th>SibSp</th>\n",
       "      <th>Parch</th>\n",
       "      <th>Fare</th>\n",
       "    </tr>\n",
       "  </thead>\n",
       "  <tbody>\n",
       "    <tr>\n",
       "      <th>count</th>\n",
       "      <td>700.00000</td>\n",
       "      <td>700.000000</td>\n",
       "      <td>700.000000</td>\n",
       "      <td>555.000000</td>\n",
       "      <td>700.000000</td>\n",
       "      <td>700.000000</td>\n",
       "      <td>700.000000</td>\n",
       "    </tr>\n",
       "    <tr>\n",
       "      <th>mean</th>\n",
       "      <td>350.50000</td>\n",
       "      <td>0.387143</td>\n",
       "      <td>2.310000</td>\n",
       "      <td>30.041892</td>\n",
       "      <td>0.532857</td>\n",
       "      <td>0.385714</td>\n",
       "      <td>32.220416</td>\n",
       "    </tr>\n",
       "    <tr>\n",
       "      <th>std</th>\n",
       "      <td>202.21688</td>\n",
       "      <td>0.487445</td>\n",
       "      <td>0.835317</td>\n",
       "      <td>14.678331</td>\n",
       "      <td>1.071309</td>\n",
       "      <td>0.818122</td>\n",
       "      <td>48.281945</td>\n",
       "    </tr>\n",
       "    <tr>\n",
       "      <th>min</th>\n",
       "      <td>1.00000</td>\n",
       "      <td>0.000000</td>\n",
       "      <td>1.000000</td>\n",
       "      <td>0.750000</td>\n",
       "      <td>0.000000</td>\n",
       "      <td>0.000000</td>\n",
       "      <td>0.000000</td>\n",
       "    </tr>\n",
       "    <tr>\n",
       "      <th>25%</th>\n",
       "      <td>175.75000</td>\n",
       "      <td>0.000000</td>\n",
       "      <td>2.000000</td>\n",
       "      <td>21.000000</td>\n",
       "      <td>0.000000</td>\n",
       "      <td>0.000000</td>\n",
       "      <td>7.925000</td>\n",
       "    </tr>\n",
       "    <tr>\n",
       "      <th>50%</th>\n",
       "      <td>350.50000</td>\n",
       "      <td>0.000000</td>\n",
       "      <td>3.000000</td>\n",
       "      <td>28.000000</td>\n",
       "      <td>0.000000</td>\n",
       "      <td>0.000000</td>\n",
       "      <td>14.500000</td>\n",
       "    </tr>\n",
       "    <tr>\n",
       "      <th>75%</th>\n",
       "      <td>525.25000</td>\n",
       "      <td>1.000000</td>\n",
       "      <td>3.000000</td>\n",
       "      <td>39.000000</td>\n",
       "      <td>1.000000</td>\n",
       "      <td>0.000000</td>\n",
       "      <td>31.275000</td>\n",
       "    </tr>\n",
       "    <tr>\n",
       "      <th>max</th>\n",
       "      <td>700.00000</td>\n",
       "      <td>1.000000</td>\n",
       "      <td>3.000000</td>\n",
       "      <td>80.000000</td>\n",
       "      <td>8.000000</td>\n",
       "      <td>6.000000</td>\n",
       "      <td>512.329200</td>\n",
       "    </tr>\n",
       "  </tbody>\n",
       "</table>\n",
       "</div>"
      ],
      "text/plain": [
       "       PassengerId    Survived      Pclass         Age       SibSp  \\\n",
       "count    700.00000  700.000000  700.000000  555.000000  700.000000   \n",
       "mean     350.50000    0.387143    2.310000   30.041892    0.532857   \n",
       "std      202.21688    0.487445    0.835317   14.678331    1.071309   \n",
       "min        1.00000    0.000000    1.000000    0.750000    0.000000   \n",
       "25%      175.75000    0.000000    2.000000   21.000000    0.000000   \n",
       "50%      350.50000    0.000000    3.000000   28.000000    0.000000   \n",
       "75%      525.25000    1.000000    3.000000   39.000000    1.000000   \n",
       "max      700.00000    1.000000    3.000000   80.000000    8.000000   \n",
       "\n",
       "            Parch        Fare  \n",
       "count  700.000000  700.000000  \n",
       "mean     0.385714   32.220416  \n",
       "std      0.818122   48.281945  \n",
       "min      0.000000    0.000000  \n",
       "25%      0.000000    7.925000  \n",
       "50%      0.000000   14.500000  \n",
       "75%      0.000000   31.275000  \n",
       "max      6.000000  512.329200  "
      ]
     },
     "execution_count": 5,
     "metadata": {},
     "output_type": "execute_result"
    }
   ],
   "source": [
    "train.describe()"
   ]
  },
  {
   "cell_type": "markdown",
   "metadata": {
    "_cell_guid": "16c28269-648d-42f7-8ef7-49baf4c5d8c5",
    "_uuid": "116bde07444a27a8e3a6799f71b54d0c35e236d1"
   },
   "source": [
    "```.describe(include = ['O'])``` \n",
    "отобразит статистики (descriptive statistics) объектного типа. Это нужно для нечисловых данных, когда нельзя просто посчитать максимумы/среднее/и пр. для данных. Мы можем отнести такие данные к категориальному виду."
   ]
  },
  {
   "cell_type": "code",
   "execution_count": 6,
   "metadata": {
    "_cell_guid": "24baf21d-0d96-4a6c-97f4-ef5cb3109f6e",
    "_uuid": "ecb09e0fc6887919c005c97af0185953a12f7b75",
    "tags": []
   },
   "outputs": [
    {
     "data": {
      "text/html": [
       "<div>\n",
       "<style scoped>\n",
       "    .dataframe tbody tr th:only-of-type {\n",
       "        vertical-align: middle;\n",
       "    }\n",
       "\n",
       "    .dataframe tbody tr th {\n",
       "        vertical-align: top;\n",
       "    }\n",
       "\n",
       "    .dataframe thead th {\n",
       "        text-align: right;\n",
       "    }\n",
       "</style>\n",
       "<table border=\"1\" class=\"dataframe\">\n",
       "  <thead>\n",
       "    <tr style=\"text-align: right;\">\n",
       "      <th></th>\n",
       "      <th>Name</th>\n",
       "      <th>Sex</th>\n",
       "      <th>Ticket</th>\n",
       "      <th>Cabin</th>\n",
       "      <th>Embarked</th>\n",
       "    </tr>\n",
       "  </thead>\n",
       "  <tbody>\n",
       "    <tr>\n",
       "      <th>count</th>\n",
       "      <td>700</td>\n",
       "      <td>700</td>\n",
       "      <td>700</td>\n",
       "      <td>157</td>\n",
       "      <td>699</td>\n",
       "    </tr>\n",
       "    <tr>\n",
       "      <th>unique</th>\n",
       "      <td>700</td>\n",
       "      <td>2</td>\n",
       "      <td>559</td>\n",
       "      <td>119</td>\n",
       "      <td>3</td>\n",
       "    </tr>\n",
       "    <tr>\n",
       "      <th>top</th>\n",
       "      <td>Humblen, Mr. Adolf Mathias Nicolai Olsen</td>\n",
       "      <td>male</td>\n",
       "      <td>CA 2144</td>\n",
       "      <td>C23 C25 C27</td>\n",
       "      <td>S</td>\n",
       "    </tr>\n",
       "    <tr>\n",
       "      <th>freq</th>\n",
       "      <td>1</td>\n",
       "      <td>449</td>\n",
       "      <td>6</td>\n",
       "      <td>4</td>\n",
       "      <td>502</td>\n",
       "    </tr>\n",
       "  </tbody>\n",
       "</table>\n",
       "</div>"
      ],
      "text/plain": [
       "                                            Name   Sex   Ticket        Cabin  \\\n",
       "count                                        700   700      700          157   \n",
       "unique                                       700     2      559          119   \n",
       "top     Humblen, Mr. Adolf Mathias Nicolai Olsen  male  CA 2144  C23 C25 C27   \n",
       "freq                                           1   449        6            4   \n",
       "\n",
       "       Embarked  \n",
       "count       699  \n",
       "unique        3  \n",
       "top           S  \n",
       "freq        502  "
      ]
     },
     "execution_count": 6,
     "metadata": {},
     "output_type": "execute_result"
    }
   ],
   "source": [
    "train.describe(include=['O'])"
   ]
  },
  {
   "cell_type": "markdown",
   "metadata": {
    "_cell_guid": "15928288-5cfd-4887-a857-c814727715a6",
    "_uuid": "be7b73cf61debb19691b6ab8851ea82113d6f7e9"
   },
   "source": [
    "Давайте проанализируем:\n",
    "* Видно, что сущесвуют дубликаты номеров билетов *Ticket* и переиспользуются каюты *Cabins* (уникальных записей (_unique_) меньше, чем общего количества). Самый большой порядок дубликата билета - \"CA. 2343\". Он повторился  7 раз. Аналогично, наибОльшее число людей, занимающих одну и ту же каюту - 4. Они используют каюты \"C23 C25 C27\".\n",
    "* Также можно заметить, что 644 человека отбыли из порта \"S\".\n",
    "* Среди 891 записей, 577 были мужчины (Male) и оставшием женщины (Female).\n",
    "\n",
    "Используем метод ```.info()```, чтобы увидеть больше информацию о типах данных/структуре в тренировочной выборке."
   ]
  },
  {
   "cell_type": "code",
   "execution_count": 7,
   "metadata": {
    "_cell_guid": "418b8a69-f2aa-442d-8f45-fa8887190938",
    "_uuid": "4ee2591110660a4a16b3da7a7530f0945e121b46",
    "tags": []
   },
   "outputs": [
    {
     "name": "stdout",
     "output_type": "stream",
     "text": [
      "<class 'pandas.core.frame.DataFrame'>\n",
      "RangeIndex: 700 entries, 0 to 699\n",
      "Data columns (total 12 columns):\n",
      " #   Column       Non-Null Count  Dtype  \n",
      "---  ------       --------------  -----  \n",
      " 0   PassengerId  700 non-null    int64  \n",
      " 1   Survived     700 non-null    int64  \n",
      " 2   Pclass       700 non-null    int64  \n",
      " 3   Name         700 non-null    object \n",
      " 4   Sex          700 non-null    object \n",
      " 5   Age          555 non-null    float64\n",
      " 6   SibSp        700 non-null    int64  \n",
      " 7   Parch        700 non-null    int64  \n",
      " 8   Ticket       700 non-null    object \n",
      " 9   Fare         700 non-null    float64\n",
      " 10  Cabin        157 non-null    object \n",
      " 11  Embarked     699 non-null    object \n",
      "dtypes: float64(2), int64(5), object(5)\n",
      "memory usage: 65.8+ KB\n"
     ]
    }
   ],
   "source": [
    "train.info()"
   ]
  },
  {
   "cell_type": "markdown",
   "metadata": {
    "_cell_guid": "abc3c4fc-6419-405f-927a-4214d2c73eec",
    "_uuid": "622d4d4b2ba8f77cc537af97fc343d4cd6de26b2"
   },
   "source": [
    "* Можно увидеть, что значение *Age* не задано для большого количества записей. \n",
    "* Из 891 строк, возраст *Age* задан лишь для 714 записей.\n",
    "* Аналогично, Каюты *Cabin* также пропущены для большого количества записей. Только 204 из 891 записей содержат *Cabin* значения."
   ]
  },
  {
   "cell_type": "code",
   "execution_count": 8,
   "metadata": {
    "_cell_guid": "0663e2bb-dc27-4187-94b1-ff4ff78b68bc",
    "_uuid": "3bf74de7f2483d622e41608f6017f2945639e4df",
    "tags": []
   },
   "outputs": [
    {
     "data": {
      "text/plain": [
       "PassengerId      0\n",
       "Survived         0\n",
       "Pclass           0\n",
       "Name             0\n",
       "Sex              0\n",
       "Age            145\n",
       "SibSp            0\n",
       "Parch            0\n",
       "Ticket           0\n",
       "Fare             0\n",
       "Cabin          543\n",
       "Embarked         1\n",
       "dtype: int64"
      ]
     },
     "execution_count": 8,
     "metadata": {},
     "output_type": "execute_result"
    }
   ],
   "source": [
    "train.isnull().sum()"
   ]
  },
  {
   "cell_type": "markdown",
   "metadata": {
    "_cell_guid": "176aa52d-fde8-42e6-a3ee-db31f8b0ca49",
    "_uuid": "b48a9feff6004d783960aa1b32fdfde902d87e21"
   },
   "source": [
    "* Всего 177 записей с пропущенным возрастом (*Age*), \n",
    "* 687 записей с пропущенным значение каюты *Cabin* \n",
    "* и для 2 записей не заданы порты отправления *Embarked*.\n",
    "\n",
    "> Результатом проведенного анализа является понимание того, насколько полны данные или нет в заданых датасетах, нужно ли проводитьб до-наполнение данных, можно ли использовать эти данные напрямую и пр."
   ]
  },
  {
   "cell_type": "markdown",
   "metadata": {
    "_cell_guid": "1de3f8d9-58fc-45f6-a1c2-d2c50cfd95e4",
    "_uuid": "8479cc0108926c2da3bcec63c13ff5da1abbbeae"
   },
   "source": [
    "### Исследуем тестовый датасет (test)\n",
    "\n",
    "Тестовый набор содержит 418 строк и 11 столбцов.\n",
    "\n",
    "> Записей в Обучающем наборе = 891\n",
    ">\n",
    "> Записей в Тестовом наборе = 418\n",
    ">\n",
    "> Всего записей = 891+418 = 1309\n",
    "\n",
    "Можно увидеть, что около 2/3 от общего количества данных - данные из обучающей выборки (*Train*) и около 1/3 всех данных - тестовые (*Test*)."
   ]
  },
  {
   "cell_type": "code",
   "execution_count": 9,
   "metadata": {
    "_cell_guid": "a67f1d37-4397-4f59-948f-843ed7674ce8",
    "_uuid": "dc78304d651df5e54aaa962d77ac673791ff1419",
    "scrolled": true,
    "tags": []
   },
   "outputs": [
    {
     "data": {
      "text/plain": [
       "(191, 12)"
      ]
     },
     "execution_count": 9,
     "metadata": {},
     "output_type": "execute_result"
    }
   ],
   "source": [
    "test.shape"
   ]
  },
  {
   "cell_type": "markdown",
   "metadata": {
    "_cell_guid": "3c5475cf-6890-4572-8160-3fe1d2130b1f",
    "_uuid": "c428862f07194d5ae6191e3bb8f4a226a5578f31"
   },
   "source": [
    "*Survived* стобец отсутствует в Тестовом наборе.\n",
    "Мы должны натренировать наш классификатор, используя Тестовый набор и сгенерировать предсказания (*Survived*) для Тестовых данных."
   ]
  },
  {
   "cell_type": "code",
   "execution_count": 10,
   "metadata": {
    "_cell_guid": "a7a6af81-6c7b-4fb3-88a1-eef9f2d95f6b",
    "_uuid": "d73aaec23bd5f4a1fe7dcf3c669d18d31c547efd",
    "tags": []
   },
   "outputs": [
    {
     "data": {
      "text/html": [
       "<div>\n",
       "<style scoped>\n",
       "    .dataframe tbody tr th:only-of-type {\n",
       "        vertical-align: middle;\n",
       "    }\n",
       "\n",
       "    .dataframe tbody tr th {\n",
       "        vertical-align: top;\n",
       "    }\n",
       "\n",
       "    .dataframe thead th {\n",
       "        text-align: right;\n",
       "    }\n",
       "</style>\n",
       "<table border=\"1\" class=\"dataframe\">\n",
       "  <thead>\n",
       "    <tr style=\"text-align: right;\">\n",
       "      <th></th>\n",
       "      <th>PassengerId</th>\n",
       "      <th>Survived</th>\n",
       "      <th>Pclass</th>\n",
       "      <th>Name</th>\n",
       "      <th>Sex</th>\n",
       "      <th>Age</th>\n",
       "      <th>SibSp</th>\n",
       "      <th>Parch</th>\n",
       "      <th>Ticket</th>\n",
       "      <th>Fare</th>\n",
       "      <th>Cabin</th>\n",
       "      <th>Embarked</th>\n",
       "    </tr>\n",
       "  </thead>\n",
       "  <tbody>\n",
       "    <tr>\n",
       "      <th>0</th>\n",
       "      <td>701</td>\n",
       "      <td>1</td>\n",
       "      <td>1</td>\n",
       "      <td>Astor, Mrs. John Jacob (Madeleine Talmadge Force)</td>\n",
       "      <td>female</td>\n",
       "      <td>18.0</td>\n",
       "      <td>1</td>\n",
       "      <td>0</td>\n",
       "      <td>PC 17757</td>\n",
       "      <td>227.5250</td>\n",
       "      <td>C62 C64</td>\n",
       "      <td>C</td>\n",
       "    </tr>\n",
       "    <tr>\n",
       "      <th>1</th>\n",
       "      <td>702</td>\n",
       "      <td>1</td>\n",
       "      <td>1</td>\n",
       "      <td>Silverthorne, Mr. Spencer Victor</td>\n",
       "      <td>male</td>\n",
       "      <td>35.0</td>\n",
       "      <td>0</td>\n",
       "      <td>0</td>\n",
       "      <td>PC 17475</td>\n",
       "      <td>26.2875</td>\n",
       "      <td>E24</td>\n",
       "      <td>S</td>\n",
       "    </tr>\n",
       "    <tr>\n",
       "      <th>2</th>\n",
       "      <td>703</td>\n",
       "      <td>0</td>\n",
       "      <td>3</td>\n",
       "      <td>Barbara, Miss. Saiide</td>\n",
       "      <td>female</td>\n",
       "      <td>18.0</td>\n",
       "      <td>0</td>\n",
       "      <td>1</td>\n",
       "      <td>2691</td>\n",
       "      <td>14.4542</td>\n",
       "      <td>NaN</td>\n",
       "      <td>C</td>\n",
       "    </tr>\n",
       "    <tr>\n",
       "      <th>3</th>\n",
       "      <td>704</td>\n",
       "      <td>0</td>\n",
       "      <td>3</td>\n",
       "      <td>Gallagher, Mr. Martin</td>\n",
       "      <td>male</td>\n",
       "      <td>25.0</td>\n",
       "      <td>0</td>\n",
       "      <td>0</td>\n",
       "      <td>36864</td>\n",
       "      <td>7.7417</td>\n",
       "      <td>NaN</td>\n",
       "      <td>Q</td>\n",
       "    </tr>\n",
       "    <tr>\n",
       "      <th>4</th>\n",
       "      <td>705</td>\n",
       "      <td>0</td>\n",
       "      <td>3</td>\n",
       "      <td>Hansen, Mr. Henrik Juul</td>\n",
       "      <td>male</td>\n",
       "      <td>26.0</td>\n",
       "      <td>1</td>\n",
       "      <td>0</td>\n",
       "      <td>350025</td>\n",
       "      <td>7.8542</td>\n",
       "      <td>NaN</td>\n",
       "      <td>S</td>\n",
       "    </tr>\n",
       "  </tbody>\n",
       "</table>\n",
       "</div>"
      ],
      "text/plain": [
       "   PassengerId  Survived  Pclass  \\\n",
       "0          701         1       1   \n",
       "1          702         1       1   \n",
       "2          703         0       3   \n",
       "3          704         0       3   \n",
       "4          705         0       3   \n",
       "\n",
       "                                                Name     Sex   Age  SibSp  \\\n",
       "0  Astor, Mrs. John Jacob (Madeleine Talmadge Force)  female  18.0      1   \n",
       "1                   Silverthorne, Mr. Spencer Victor    male  35.0      0   \n",
       "2                              Barbara, Miss. Saiide  female  18.0      0   \n",
       "3                              Gallagher, Mr. Martin    male  25.0      0   \n",
       "4                            Hansen, Mr. Henrik Juul    male  26.0      1   \n",
       "\n",
       "   Parch    Ticket      Fare    Cabin Embarked  \n",
       "0      0  PC 17757  227.5250  C62 C64        C  \n",
       "1      0  PC 17475   26.2875      E24        S  \n",
       "2      1      2691   14.4542      NaN        C  \n",
       "3      0     36864    7.7417      NaN        Q  \n",
       "4      0    350025    7.8542      NaN        S  "
      ]
     },
     "execution_count": 10,
     "metadata": {},
     "output_type": "execute_result"
    }
   ],
   "source": [
    "test.head()"
   ]
  },
  {
   "cell_type": "code",
   "execution_count": 11,
   "metadata": {
    "_cell_guid": "6f09ffda-3cd9-423a-8ab7-322330b6f44f",
    "_uuid": "03b6cc95436e9382d8f4b92367e9d586caed59ad",
    "tags": []
   },
   "outputs": [
    {
     "name": "stdout",
     "output_type": "stream",
     "text": [
      "<class 'pandas.core.frame.DataFrame'>\n",
      "RangeIndex: 191 entries, 0 to 190\n",
      "Data columns (total 12 columns):\n",
      " #   Column       Non-Null Count  Dtype  \n",
      "---  ------       --------------  -----  \n",
      " 0   PassengerId  191 non-null    int64  \n",
      " 1   Survived     191 non-null    int64  \n",
      " 2   Pclass       191 non-null    int64  \n",
      " 3   Name         191 non-null    object \n",
      " 4   Sex          191 non-null    object \n",
      " 5   Age          159 non-null    float64\n",
      " 6   SibSp        191 non-null    int64  \n",
      " 7   Parch        191 non-null    int64  \n",
      " 8   Ticket       191 non-null    object \n",
      " 9   Fare         191 non-null    float64\n",
      " 10  Cabin        47 non-null     object \n",
      " 11  Embarked     190 non-null    object \n",
      "dtypes: float64(2), int64(5), object(5)\n",
      "memory usage: 18.0+ KB\n"
     ]
    }
   ],
   "source": [
    "test.info()"
   ]
  },
  {
   "cell_type": "markdown",
   "metadata": {
    "_cell_guid": "f93b65cb-4a3d-46d1-bb14-154374467f24",
    "_uuid": "54070d3b3aaf4c20b21e6460d9a3a7cd04df5aa0"
   },
   "source": [
    "* Есть отсутствующие данные для возраста (*Age*) и в Тестовом наборе тоже.\n",
    "\n",
    "* Из 418 записей в Тестовом наборе , только в 332 строках присутствует возраст (*Age*).\n",
    "\n",
    "* *Cabin* также отсутсвуют в большом колчиестве записей. Только 91 строка из 418 содержать значения для поля *Cabin*."
   ]
  },
  {
   "cell_type": "code",
   "execution_count": 12,
   "metadata": {
    "_cell_guid": "7783d378-a9bb-4afb-977d-714faddbd54c",
    "_uuid": "c78d7a4a30362d7afe9f917e0cae3558098ae1d6",
    "tags": []
   },
   "outputs": [
    {
     "data": {
      "text/plain": [
       "PassengerId      0\n",
       "Survived         0\n",
       "Pclass           0\n",
       "Name             0\n",
       "Sex              0\n",
       "Age             32\n",
       "SibSp            0\n",
       "Parch            0\n",
       "Ticket           0\n",
       "Fare             0\n",
       "Cabin          144\n",
       "Embarked         1\n",
       "dtype: int64"
      ]
     },
     "execution_count": 12,
     "metadata": {},
     "output_type": "execute_result"
    }
   ],
   "source": [
    "test.isnull().sum()"
   ]
  },
  {
   "cell_type": "markdown",
   "metadata": {
    "_cell_guid": "524ecb92-5b8e-462c-ad7c-9ee301074742",
    "_uuid": "1e6195649821a5e828d8283d95722f1fe8e4dbab"
   },
   "source": [
    "Всего 86 записей с пропущенным Возрастом (*Age*), 327 записей с пропущенными Каютами (*Cabin*) и 1 записьс пропущенной информацией о Цене *Fare*."
   ]
  },
  {
   "cell_type": "markdown",
   "metadata": {
    "_cell_guid": "c8553d48-c5e0-4947-bd13-1b38509c850c",
    "_uuid": "1a28e607e9ed63cefe0f35a4e4d72f2f36299323"
   },
   "source": [
    "### Зависимости между Признаками (Features) и Ответом (Survival)\n",
    "\n",
    "В этом разделе, мы анализируем зависимости между разными признаками по отношению к Спасению(*Survival*). Мы увидии как разные значения признакоы отображают разные шансы на спасение. Мы также построим разные виды диаграмм, для того, чтобы **представить** наши данные и находки."
   ]
  },
  {
   "cell_type": "code",
   "execution_count": 13,
   "metadata": {
    "_cell_guid": "b1d8a6d2-c22d-435c-8c98-973e8f41b138",
    "_uuid": "26411c710f69b29939c815d5f5ab01d9177df7d0",
    "tags": []
   },
   "outputs": [
    {
     "name": "stdout",
     "output_type": "stream",
     "text": [
      "Survived: 271 (38.7%)\n",
      "Not Survived: 429 (61.3%)\n",
      "Total: 700\n"
     ]
    }
   ],
   "source": [
    "survived = train[train['Survived'] == 1]\n",
    "not_survived = train[train['Survived'] == 0]\n",
    "\n",
    "print (\"Survived: %i (%.1f%%)\"%(len(survived), float(len(survived))/len(train)*100.0))\n",
    "print (\"Not Survived: %i (%.1f%%)\"%(len(not_survived), float(len(not_survived))/len(train)*100.0))\n",
    "print (\"Total: %i\"%len(train))"
   ]
  },
  {
   "cell_type": "markdown",
   "metadata": {
    "_cell_guid": "aa6d2b6d-af33-46f2-997b-e8f7a6d29ddd",
    "_uuid": "6ddbc343c14cfd51d66cf16482291212949d10a3"
   },
   "source": [
    "#### Pclass vs. Survival\n",
    "\n",
    "Пассажиры более высокого класса имеют бОльшие шансы на спасение."
   ]
  },
  {
   "cell_type": "code",
   "execution_count": 14,
   "metadata": {
    "_cell_guid": "3519d680-1e35-437d-9691-16ff3c73a674",
    "_uuid": "1708bbe6b8bcbbf2ecb0ce1e27f3b9bf2d1a61e8",
    "tags": []
   },
   "outputs": [
    {
     "data": {
      "text/plain": [
       "Pclass\n",
       "3    386\n",
       "1    169\n",
       "2    145\n",
       "Name: count, dtype: int64"
      ]
     },
     "execution_count": 14,
     "metadata": {},
     "output_type": "execute_result"
    }
   ],
   "source": [
    "train.Pclass.value_counts()"
   ]
  },
  {
   "cell_type": "code",
   "execution_count": null,
   "metadata": {
    "_cell_guid": "4fa5d7fc-913d-48db-b876-534d9232115c",
    "_uuid": "23018e75735ef1f2df021fa2278e7eba0c6b5e2f",
    "tags": []
   },
   "outputs": [],
   "source": [
    "train.groupby('Pclass').Survived.value_counts()"
   ]
  },
  {
   "cell_type": "code",
   "execution_count": null,
   "metadata": {
    "_cell_guid": "6f13718d-94a3-48da-bc80-c69774f91628",
    "_uuid": "875d19ca526b3cc79685a8134175af2f6c373fb5",
    "tags": []
   },
   "outputs": [],
   "source": [
    "train[['Pclass', 'Survived']].groupby(['Pclass'], as_index=False).mean()"
   ]
  },
  {
   "cell_type": "code",
   "execution_count": null,
   "metadata": {
    "_cell_guid": "750dd832-6155-42b8-859f-6b4f39312cff",
    "_uuid": "2fb25360ed46e3095f3fc88f66a5c5a4051299d0",
    "tags": []
   },
   "outputs": [],
   "source": [
    "#train.groupby('Pclass').Survived.mean().plot(kind='bar')\n",
    "sns.barplot(x='Pclass', y='Survived', data=train)"
   ]
  },
  {
   "cell_type": "markdown",
   "metadata": {
    "_cell_guid": "8e7dea7a-466a-427c-90f7-9919b0257928",
    "_uuid": "30220b897ef645f5f09edd92ceaf66b7480874f9"
   },
   "source": [
    "#### Sex vs. Survival\n",
    "\n",
    "Женщины имеют бОльшие шансы на спасение."
   ]
  },
  {
   "cell_type": "code",
   "execution_count": null,
   "metadata": {
    "_cell_guid": "46df4fd7-01fe-492d-9ab4-411063999fa6",
    "_uuid": "81239e0a000dcfa838b1568e7944b2a19f787ff0",
    "tags": []
   },
   "outputs": [],
   "source": [
    "train.Sex.value_counts()"
   ]
  },
  {
   "cell_type": "code",
   "execution_count": null,
   "metadata": {
    "_cell_guid": "4458f41b-d5ac-4b65-b402-c7dfb5f7a773",
    "_uuid": "fbed9f476a6a6612f0b896354e24da2d8ab6b5b1",
    "tags": []
   },
   "outputs": [],
   "source": [
    "train.groupby('Sex').Survived.value_counts()"
   ]
  },
  {
   "cell_type": "code",
   "execution_count": null,
   "metadata": {
    "_cell_guid": "23a3fd2c-4b6d-42b6-aa16-d332b762d5e4",
    "_uuid": "51395890825ac9c6ba5b454942a062e2e3d1aa8b",
    "tags": []
   },
   "outputs": [],
   "source": [
    "train[['Sex', 'Survived']].groupby(['Sex'], as_index=False).mean()"
   ]
  },
  {
   "cell_type": "code",
   "execution_count": null,
   "metadata": {
    "_cell_guid": "74a9672d-a4a1-49dc-b7bb-80af130e3435",
    "_uuid": "dc4b4a37faf5e0769f58d18c13307936fd941c1d",
    "tags": []
   },
   "outputs": [],
   "source": [
    "#train.groupby('Sex').Survived.mean().plot(kind='bar')\n",
    "sns.barplot(x='Sex', y='Survived', data=train)"
   ]
  },
  {
   "cell_type": "markdown",
   "metadata": {
    "_cell_guid": "f7f1f02f-3c57-4304-8daa-042f621e9780",
    "_uuid": "95eec0c76da918cdfb5f230de1239057f62cd51d"
   },
   "source": [
    "#### Pclass & Sex vs. Survival\n",
    "\n",
    "Ниже, мы просто находим, сколько мужчин и женщин в каждом Классе (*Pclass*). Затем мы строим столбцовую диаграмму с полученной информацией . Мы обнаруживамем, что среди пассажиров 3 Класса больше мужчин."
   ]
  },
  {
   "cell_type": "code",
   "execution_count": null,
   "metadata": {
    "_cell_guid": "1f6ab924-c1e4-4caf-af5d-fcbea591dfe5",
    "_uuid": "b55e8de5aa73f1e1be45c4a3b673a9cb8c2c44b5",
    "tags": []
   },
   "outputs": [],
   "source": [
    "tab = pd.crosstab(train['Pclass'], train['Sex'])\n",
    "print (tab)\n",
    "\n",
    "tab.div(tab.sum(1).astype(float), axis=0).plot(kind=\"bar\", stacked=True)\n",
    "plt.xlabel('Pclass')\n",
    "plt.ylabel('Percentage')"
   ]
  },
  {
   "cell_type": "markdown",
   "metadata": {
    "_cell_guid": "b81a96f3-aeea-4e64-9e98-9632b82e3b08",
    "_uuid": "5f114e20f937fcb35db17bae34568ebe94bb3799"
   },
   "source": [
    "Из графика выше, можем видеть, что :\n",
    "- Женщины из 1го и 2го Классов (Pclass) имеют практически 100% шансы на спасение. \n",
    "- Мужчины из 2го и 3го Классов (Pclass) имеют только около 10% шансов на спасене."
   ]
  },
  {
   "cell_type": "markdown",
   "metadata": {},
   "source": [
    "-------\n",
    "### Задание для самостоятельной работы\n",
    "\n",
    "Необходимо построить и качественно проанализировать (самостоятельно) следующие зависимости в данных:\n",
    "* [ ] Embarked vs. Survival\n",
    "* [ ] Pclass vs. Embarked vs. Survival\n",
    "* [ ] Parch vs. Survival\n",
    "* [ ] SibSp vs. Survival\n",
    "* [ ] Age vs. Survival\n",
    "-------"
   ]
  },
  {
   "cell_type": "markdown",
   "metadata": {
    "_cell_guid": "6c3c8e3d-d2bb-4a6b-b41a-cf212214f3cc",
    "_uuid": "d44e729bc65bb9023ac26f3733afd6ad20f7ea47"
   },
   "source": [
    "#### Pclass, Sex & Embarked vs. Survival"
   ]
  },
  {
   "cell_type": "code",
   "execution_count": null,
   "metadata": {
    "_cell_guid": "1d2b1c6b-b5da-471f-a1ff-ff5cfa89feca",
    "_uuid": "66c13283729566414144283d58839659a61f8f8c",
    "scrolled": true,
    "tags": []
   },
   "outputs": [],
   "source": [
    "sns.catplot(x='Pclass', y='Survived', hue='Sex', col='Embarked', data=train)"
   ]
  },
  {
   "cell_type": "markdown",
   "metadata": {
    "_cell_guid": "317baafa-0be2-4a90-906e-20c7602bb57e",
    "_uuid": "00b1b5c92f2b58d2b593aacaf44c40c4fcb9f8d0"
   },
   "source": [
    "Из этого графика можно увидеть, что :\n",
    "- Почти все женщины из 1го и 2го Класса спаслись.\n",
    "- Жертвы серди женщин были в основном из 3 класса.\n",
    "- Мужчины только из 1 класса имеют несколько большие шансы на спасение, чем из 2го и 3го Классов.\n",
    "\n",
    "Давайте посмотрим, есть ли какая-либо зависимость от пунтка отправления. Для этого необходимо обратиться к карте следования Титаника. S - порт Саутгемптона, является первым на пути следования, С - Шербург - второй порт посадки пассажиров, Q - Квинстаун - последний по пути отправления.\n",
    "\n",
    "![](https://upload.wikimedia.org/wikipedia/commons/thumb/1/1f/%28ru%29_Titanic_voyage_map.svg/1920px-%28ru%29_Titanic_voyage_map.svg.png)\n",
    "\n",
    "Есть ли какая-то зависимость от порта посадки? Исходя из графиков мы видим, что вероятность спасения женщин увеличивается по всем классам пассажирова с более поздним портом посадки. У мужчин эта логика не срабатывает для порта Квинстауна только. Вполне возможно, что это связано с загрузкой пассажиров, когда более поздние занимают места на более высоких палубах (аналогия - погрузка пассажиров в самолет), чтобы и центр масс был ниже и последующие пассажиры не мешалии не проходили мимо уже расположившихся."
   ]
  },
  {
   "cell_type": "markdown",
   "metadata": {
    "_cell_guid": "2be5e738-7ce6-4894-b551-be27ed1e2e14",
    "_uuid": "6af0dc82a865ed3f9df1e2541457f5386aa22a92"
   },
   "source": [
    "#### Embarked vs. Survived"
   ]
  },
  {
   "cell_type": "code",
   "execution_count": null,
   "metadata": {
    "_cell_guid": "0495cd70-bc41-4783-aa45-2ec384ef5bf3",
    "_uuid": "17e10d07ba73773b4d67cf2228818454607582da",
    "tags": []
   },
   "outputs": [],
   "source": [
    "train.Embarked.value_counts()"
   ]
  },
  {
   "cell_type": "code",
   "execution_count": null,
   "metadata": {
    "_cell_guid": "6865de4c-9da6-4589-a58b-afe01d9835b6",
    "_uuid": "0b785f9cdf1f0c5d0cc4ae5e429dbf499e894dd3",
    "tags": []
   },
   "outputs": [],
   "source": [
    "train.groupby('Embarked').Survived.value_counts()"
   ]
  },
  {
   "cell_type": "code",
   "execution_count": null,
   "metadata": {
    "_cell_guid": "fdbbaf29-5a59-490e-b9fc-fa02f0673047",
    "_kg_hide-input": true,
    "_kg_hide-output": true,
    "_uuid": "03a5505bba0411c73d2723cf54f2cadadc517ce4",
    "tags": []
   },
   "outputs": [],
   "source": [
    "train[['Embarked', 'Survived']].groupby(['Embarked'], as_index=False).mean()"
   ]
  },
  {
   "cell_type": "code",
   "execution_count": null,
   "metadata": {
    "_cell_guid": "ac2ac7f7-a310-43e6-babc-bdde16c151c0",
    "_kg_hide-input": false,
    "_kg_hide-output": false,
    "_uuid": "6f3cc8762ac6729c72cfd2de56f1c520b0a38fc5",
    "tags": []
   },
   "outputs": [],
   "source": [
    "#train.groupby('Embarked').Survived.mean().plot(kind='bar')\n",
    "sns.barplot(x='Embarked', y='Survived', data=train)"
   ]
  },
  {
   "cell_type": "markdown",
   "metadata": {
    "_cell_guid": "0ba446c0-bbd5-4fd5-9865-e8cec0c0db1e",
    "_uuid": "366add4366f3bae0855cedd296ca03b9ecacd9c9"
   },
   "source": [
    "#### Parch vs. Survival"
   ]
  },
  {
   "cell_type": "code",
   "execution_count": null,
   "metadata": {
    "_cell_guid": "e1ff4289-e4a4-4dab-a2a8-aea014f191f3",
    "_uuid": "559e007c8a8f1038d9c16d19812ce98e29370fe5",
    "tags": []
   },
   "outputs": [],
   "source": [
    "train.Parch.value_counts()"
   ]
  },
  {
   "cell_type": "code",
   "execution_count": null,
   "metadata": {
    "_cell_guid": "4782685d-a2a7-4b1e-bdc1-8528f5176ba3",
    "_uuid": "ba8cbe12ce5aa49376a98a370507ad36eb51b53a",
    "tags": []
   },
   "outputs": [],
   "source": [
    "train.groupby('Parch').Survived.value_counts()"
   ]
  },
  {
   "cell_type": "code",
   "execution_count": null,
   "metadata": {
    "_cell_guid": "07156c23-f8ec-426d-8a2a-04c2d2f7d676",
    "_uuid": "a06d63e60664e5f78d134ee45522538c5c67c7b6",
    "tags": []
   },
   "outputs": [],
   "source": [
    "train[['Parch', 'Survived']].groupby(['Parch'], as_index=False).mean()"
   ]
  },
  {
   "cell_type": "code",
   "execution_count": null,
   "metadata": {
    "_cell_guid": "a7a20f85-6f3f-449b-87ae-6b4a0db5a04a",
    "_uuid": "20cdb7c7848d7e05b24864811990499217e8ff0d",
    "tags": []
   },
   "outputs": [],
   "source": [
    "#train.groupby('Parch').Survived.mean().plot(kind='bar')\n",
    "sns.barplot(x='Parch', y='Survived', ci=None, data=train) # ci=None will hide the error bar"
   ]
  },
  {
   "cell_type": "markdown",
   "metadata": {
    "_cell_guid": "e17f4cec-5b87-4145-9682-36c1074cab13",
    "_uuid": "ac0c853cd98c65e23c479fa4ac095368dc7611a3"
   },
   "source": [
    "#### SibSp vs. Survival"
   ]
  },
  {
   "cell_type": "code",
   "execution_count": null,
   "metadata": {
    "_cell_guid": "aa7c549b-dece-47d6-ae59-904bfacd7e7b",
    "_uuid": "73dec216cd3f086d6234292d5de07a7b38235aee",
    "tags": []
   },
   "outputs": [],
   "source": [
    "train.SibSp.value_counts()"
   ]
  },
  {
   "cell_type": "code",
   "execution_count": null,
   "metadata": {
    "_cell_guid": "4928fd7f-119e-4236-be66-fdf763789935",
    "_uuid": "ea275ec5c650b60c2c8f2fe1a9978dc62dd92971",
    "tags": []
   },
   "outputs": [],
   "source": [
    "train.groupby('SibSp').Survived.value_counts()"
   ]
  },
  {
   "cell_type": "code",
   "execution_count": null,
   "metadata": {
    "_cell_guid": "d272b3a0-3113-43f3-8fc1-2b35c0e9f1e1",
    "_uuid": "185dc0cf1d7747ff010f35f62db9533fcafd2a46",
    "tags": []
   },
   "outputs": [],
   "source": [
    "train[['SibSp', 'Survived']].groupby(['SibSp'], as_index=False).mean()"
   ]
  },
  {
   "cell_type": "code",
   "execution_count": null,
   "metadata": {
    "_cell_guid": "e2974991-3fcc-40fe-a977-4084a74dbbca",
    "_uuid": "b91cd2cda757615b442a664e3ec58cf55a30a322",
    "tags": []
   },
   "outputs": [],
   "source": [
    "#train.groupby('SibSp').Survived.mean().plot(kind='bar')\n",
    "sns.barplot(x='SibSp', y='Survived', ci=None, data=train) # ci=None will hide the error bar"
   ]
  },
  {
   "cell_type": "markdown",
   "metadata": {
    "_cell_guid": "aeb5d0d6-043f-4ad6-9dd1-c8582a76f937",
    "_uuid": "3f6bfb7c78b582270ef47a77ac1fb7cd8d1f1a05"
   },
   "source": [
    "#### Age vs. Survival"
   ]
  },
  {
   "cell_type": "code",
   "execution_count": null,
   "metadata": {
    "_cell_guid": "5de76f16-0770-4d3a-94af-1a5f885ad513",
    "_uuid": "4b9fd4c0dc8fa56a392419cded332a5479cc9c11",
    "tags": []
   },
   "outputs": [],
   "source": [
    "fig = plt.figure(figsize=(15,5))\n",
    "ax1 = fig.add_subplot(131)\n",
    "ax2 = fig.add_subplot(132)\n",
    "ax3 = fig.add_subplot(133)\n",
    "\n",
    "sns.violinplot(x=\"Embarked\", y=\"Age\", hue=\"Survived\", data=train, split=True, ax=ax1)\n",
    "sns.violinplot(x=\"Pclass\", y=\"Age\", hue=\"Survived\", data=train, split=True, ax=ax2)\n",
    "sns.violinplot(x=\"Sex\", y=\"Age\", hue=\"Survived\", data=train, split=True, ax=ax3)"
   ]
  },
  {
   "cell_type": "markdown",
   "metadata": {
    "_cell_guid": "483c8710-c93a-4f26-89ea-41f7309c24b9",
    "_uuid": "fc51f05e33676cef147064d01d5fed5576daa554"
   },
   "source": [
    "Из графика (```.violinplot(..)```) по переменной *Pclass* можно увидеть, что:\n",
    "- 1st Pclass пассажиры имеют очень маль детей по сравнению с двумя другими классами.\n",
    "- 1st Plcass пассажиры по возрасту намного старше по сравнению с двумя другими классами.\n",
    "- Почти все дети (в возрасте от 0 до 10) пассажиров 2го класса спаслись.\n",
    "- Большинству детей пассажиров 3го класса удалось спастись.\n",
    "- Более молодые люди из первого класса спасались по сравнению к более пожилым.\n",
    "\n",
    "Из графика (=violinplot) по полу *Sex* можно увидеть, что:\n",
    "- Большинство детей мужского пола (в возрасте от 0 до 14) спаслись.\n",
    "- Девушки и жещины в возрасте от 18 до 40 имели (в оригинале - имеют) больший шанс на спасение."
   ]
  },
  {
   "cell_type": "code",
   "execution_count": null,
   "metadata": {
    "_cell_guid": "5aaff304-95ca-47a5-82ea-043a754aa566",
    "_uuid": "a27f29a7b85ce41d6c7805da4e3b5f7bd99131b9",
    "tags": []
   },
   "outputs": [],
   "source": [
    "total_survived = train[train['Survived']==1]\n",
    "total_not_survived = train[train['Survived']==0]\n",
    "male_survived = train[(train['Survived']==1) & (train['Sex']==\"male\")]\n",
    "female_survived = train[(train['Survived']==1) & (train['Sex']==\"female\")]\n",
    "male_not_survived = train[(train['Survived']==0) & (train['Sex']==\"male\")]\n",
    "female_not_survived = train[(train['Survived']==0) & (train['Sex']==\"female\")]\n",
    "\n",
    "plt.figure(figsize=[15,5])\n",
    "plt.subplot(111)\n",
    "sns.distplot(total_survived['Age'].dropna().values, bins=range(0, 81, 1), kde=False, color='blue')\n",
    "sns.distplot(total_not_survived['Age'].dropna().values, bins=range(0, 81, 1), kde=False, color='red', axlabel='Age')\n",
    "\n",
    "plt.figure(figsize=[15,5])\n",
    "\n",
    "plt.subplot(121)\n",
    "sns.distplot(female_survived['Age'].dropna().values, bins=range(0, 81, 1), kde=False, color='blue')\n",
    "sns.distplot(female_not_survived['Age'].dropna().values, bins=range(0, 81, 1), kde=False, color='red', axlabel='Female Age')\n",
    "\n",
    "plt.subplot(122)\n",
    "sns.distplot(male_survived['Age'].dropna().values, bins=range(0, 81, 1), kde=False, color='blue')\n",
    "sns.distplot(male_not_survived['Age'].dropna().values, bins=range(0, 81, 1), kde=False, color='red', axlabel='Male Age')\n"
   ]
  },
  {
   "cell_type": "markdown",
   "metadata": {
    "_cell_guid": "41e4e217-e98d-4648-9a18-41f6b031a93b",
    "_uuid": "9c6e39a8fe1becb94c1d473513bedccf28b0ac3b"
   },
   "source": [
    "Из графиков сверху следует, что:\n",
    "- Объединя вместе пассажирова мужского и женского полов, можно заметить, что дети в возрасте от 0 до 5 лет имеют больше шансов на спасение.\n",
    "- Девушки/Женщины в возрасте от \"18 до 40\" и \"старше 50\" имеют более высокие шансы.\n",
    "- Мальчики/Юноши в возрасте от 0 до 14 имеют большие шансы на спасение."
   ]
  },
  {
   "cell_type": "markdown",
   "metadata": {
    "_cell_guid": "6f2389e2-5f94-4afb-87e1-028350de945d",
    "_uuid": "00b44aefe6f10d7abc759461075e4a4688c1c4f5"
   },
   "source": [
    "### Корреляция признаков\n",
    "\n",
    "*Что нам это дает?* - с помощью подобного инструмента мы можем оценить зависимости между данными. Так \"тепловая\" карта корреляций разных признаков отображает:\n",
    "\n",
    "> **Положительные** значение = Положительные корреляция, т.е. возрастание по одному признаку соответсвует возрастанию по другому признаку и наоборот.\n",
    ">\n",
    "> **Орицательные** значения = Обратные/Негативные корреляции, т.е. возрастание по одному признаку, влечет уменьшение иного, и наоборот.\n",
    "\n",
    "В нашем случае, мы фокусируемся на тех признаках, которые имеют сильные положительные и отрицательные корреляции с признаком *Survived*. \n",
    "\n",
    ">Почему?  Потому что это означает, что прогнозирование значения *Survived* (а именно это и надо предсказать) имеет прямую зависимость с признакми с положительное корреляцией, и обратную - с отрицательными, т.о. если мы инвертируем обратные значения, то они тоже перейдут в разряд положительных корреляций."
   ]
  },
  {
   "cell_type": "code",
   "execution_count": null,
   "metadata": {
    "_cell_guid": "a6e2253b-aa82-4ef5-8b1a-c1c5c7b6b176",
    "_uuid": "f3a8657cbe64e417316d2f5f6ebe1069e4532cf2",
    "tags": []
   },
   "outputs": [],
   "source": [
    "plt.figure(figsize=(15,6))\n",
    "sns.heatmap(train.drop('PassengerId',axis=1).corr(), vmax=0.6, square=True, annot=True)"
   ]
  },
  {
   "cell_type": "markdown",
   "metadata": {
    "_cell_guid": "810cd964-24eb-44fb-9e7b-18bbddd4900f",
    "_uuid": "fd86ccdf2d1248b79c68365444e96e46a50f3f5a"
   },
   "source": [
    "## Выделение признаков (Feature Extraction) <a class=\"anchor\" id=\"title2\"></a>\n",
    "\n",
    "В этом разделе, мы выбираем соответствущие признакова для тренировки классификатора. Здесь, мы создадим новые признаки, основываясь на существующихю. Также мы приведем категориальные признаки к числовому виду.\n",
    "\n",
    "#### Признак Обращения\n",
    "\n",
    "Если посмотреть на то, как заданы имена в датасете, то можно заметить, что имена предворяются обращениями/титулами (напр. *Mr.*, *Dr.*, *Ms.*, и т.д.). Это может добавить доп. информации о персоне - статус, положение в обществе и пр., по крайней мере, как они были записаны в билетах. Давайте начнем с того, что извлечем \"Обращения\" из столбцов имен (колонка *Name*).\n"
   ]
  },
  {
   "cell_type": "code",
   "execution_count": null,
   "metadata": {
    "_cell_guid": "ff9cf7ce-8b13-48d0-8ec0-4bcd9befcd42",
    "_uuid": "e3b7f95e366e878c7e99672ddc4361c5b5f99959",
    "tags": []
   },
   "outputs": [],
   "source": [
    "train_test_data = [train, test] # combining train and test dataset\n",
    "\n",
    "for dataset in train_test_data:\n",
    "    dataset['Title'] = dataset.Name.str.extract(' ([A-Za-z]+)\\.')"
   ]
  },
  {
   "cell_type": "code",
   "execution_count": null,
   "metadata": {
    "_cell_guid": "13811f8e-4746-411b-806f-2c86a4893269",
    "_uuid": "5b181a96646a36e0669e856f399646fa30923781",
    "tags": []
   },
   "outputs": [],
   "source": [
    "train.head()"
   ]
  },
  {
   "cell_type": "markdown",
   "metadata": {
    "_cell_guid": "079b3f6e-6b8c-40bf-a419-94f0dd4e5c4d",
    "_uuid": "a3c0f651d45fdcf89cdbe49b86ecfa66c95a49f3"
   },
   "source": [
    "Как можно видеть выше. мы добавили новый столбец *Title* в обучающий датасет и заполнили его значениями из поля *Name*."
   ]
  },
  {
   "cell_type": "code",
   "execution_count": null,
   "metadata": {
    "_cell_guid": "bf944c80-25c2-46f9-8c79-6daf3c8f6d6e",
    "_uuid": "ee143a8c07ba167241d0714187a45eca75847b70",
    "tags": []
   },
   "outputs": [],
   "source": [
    "pd.crosstab(train['Title'], train['Sex'])"
   ]
  },
  {
   "cell_type": "markdown",
   "metadata": {
    "_cell_guid": "d701f6ea-0e79-4249-afa1-6e53ca61e401",
    "_uuid": "84f15be73a52ea3e7d591cd6246b084c26b1e39c"
   },
   "source": [
    "Количество пассажиров в уникальным Обращениями показаны выше.\n",
    "\n",
    "Теперь заменим некоторые не столь широко используемые Обращения значением \"Other\"."
   ]
  },
  {
   "cell_type": "code",
   "execution_count": null,
   "metadata": {
    "_cell_guid": "d0826fef-6815-4381-8667-70ca0f04edf7",
    "_uuid": "027552b065d70355ddad5f5e26c8d58029e737aa",
    "tags": []
   },
   "outputs": [],
   "source": [
    "for dataset in train_test_data:\n",
    "    dataset['Title'] = dataset['Title'].replace(['Lady', 'Countess','Capt', 'Col', \\\n",
    " \t'Don', 'Dr', 'Major', 'Rev', 'Sir', 'Jonkheer', 'Dona'], 'Other')\n",
    "\n",
    "    dataset['Title'] = dataset['Title'].replace('Mlle', 'Miss')\n",
    "    dataset['Title'] = dataset['Title'].replace('Ms', 'Miss')\n",
    "    dataset['Title'] = dataset['Title'].replace('Mme', 'Mrs')\n",
    "    \n",
    "train[['Title', 'Survived']].groupby(['Title'], as_index=False).mean()"
   ]
  },
  {
   "cell_type": "markdown",
   "metadata": {
    "_cell_guid": "c55cad9a-7484-47dd-88fd-925042b3f043",
    "_uuid": "3560235f8e1546cf1bf01a05b11df706c2b0f0eb"
   },
   "source": [
    "После этого мы конвертируем категориальный признак *Title* в числовой вид. Для этого строим таблицу соответствий:\n",
    "\n",
    "| Категориальный признак | Значение|\n",
    "| ------------- |-------------|\n",
    "| Mr | 1 |\n",
    "| Miss | 2 |\n",
    "| Mrs | 3 |\n",
    "| Master | 4 |\n",
    "| Other | 5 |\n",
    "\n",
    "```.map()``` реализует такой маппинг следующим образом:"
   ]
  },
  {
   "cell_type": "code",
   "execution_count": null,
   "metadata": {
    "_cell_guid": "2b03f4c6-68b9-42cb-b48b-ed443e88f536",
    "_uuid": "68855c261b705fb2bfd8867e89c53af2f8a6e736",
    "tags": []
   },
   "outputs": [],
   "source": [
    "title_mapping = {\"Mr\": 1, \"Miss\": 2, \"Mrs\": 3, \"Master\": 4, \"Other\": 5}\n",
    "for dataset in train_test_data:\n",
    "    dataset['Title'] = dataset['Title'].map(title_mapping)\n",
    "    dataset['Title'] = dataset['Title'].fillna(0)"
   ]
  },
  {
   "cell_type": "code",
   "execution_count": null,
   "metadata": {
    "_cell_guid": "784a9133-1e88-4fcb-a1dc-e295e4b8ade2",
    "_uuid": "9eb4e3aeecdc072744751529630ebc2a402fc03f",
    "tags": []
   },
   "outputs": [],
   "source": [
    "train.head()"
   ]
  },
  {
   "cell_type": "markdown",
   "metadata": {
    "_cell_guid": "84c6e359-0c42-45f1-a02b-95cd378569c5",
    "_uuid": "b387c9a34617e40a18e864478e8a1f27ff8d16d4"
   },
   "source": [
    "#### Sex \n",
    "\n",
    "Конвертируем катгориальное значение *Sex* в численное представление. 0 - предстваляет женский пол, 1 - мужской."
   ]
  },
  {
   "cell_type": "code",
   "execution_count": null,
   "metadata": {
    "_cell_guid": "9a894d3c-a231-4086-a913-983095991db4",
    "_uuid": "6f411eedcf32587d4a32516a1468118d05b8651e",
    "tags": []
   },
   "outputs": [],
   "source": [
    "for dataset in train_test_data:\n",
    "    dataset['Sex'] = dataset['Sex'].map( {'female': 1, 'male': 0} ).astype(int)"
   ]
  },
  {
   "cell_type": "code",
   "execution_count": null,
   "metadata": {
    "_cell_guid": "97140289-3b80-47b3-af17-e8722edbe561",
    "_uuid": "601cfeccb49d385da5b95d475368a7c2381fa50f",
    "tags": []
   },
   "outputs": [],
   "source": [
    "train.head()"
   ]
  },
  {
   "cell_type": "markdown",
   "metadata": {
    "_cell_guid": "2f71e07e-2ccc-4243-a886-f27810301783",
    "_uuid": "317dea4b468b8562be2f0bc14b80dc29c3f630ed"
   },
   "source": [
    "#### Embarked \n",
    "\n",
    "В датасетах присутствуют в столбцах *Embarked* пустые значения (\"nan\"). Есил так их и оставить, либо же заменить на значение \"n/a\", то оно будет восприниматься алгоритмами наравне с остальными значениями данного признака. ЭТо может быть не совсем корректно, с точки зрения задачи. "
   ]
  },
  {
   "cell_type": "code",
   "execution_count": null,
   "metadata": {
    "_cell_guid": "fa16c3ff-4a6c-477c-bc76-3124d535613d",
    "_uuid": "0f0d5c14263b9b5f61e55ac8eac5bbbb26675786",
    "tags": []
   },
   "outputs": [],
   "source": [
    "train.Embarked.unique()"
   ]
  },
  {
   "cell_type": "markdown",
   "metadata": {
    "_cell_guid": "acc831a4-0fd3-4ed5-9744-dab25cfd3f38",
    "_uuid": "e017bc9a7d34f978eec292e9da062791a604eed5"
   },
   "source": [
    "Сначала проверим количество пассажиров для каждой категории *Embarked*."
   ]
  },
  {
   "cell_type": "code",
   "execution_count": null,
   "metadata": {
    "_cell_guid": "2eac9624-7fa4-466a-a4ed-7e5f2fc3617d",
    "_uuid": "afa5d4c786df38daba7ba4e188202557c876d76c",
    "tags": []
   },
   "outputs": [],
   "source": [
    "train.Embarked.value_counts()"
   ]
  },
  {
   "cell_type": "markdown",
   "metadata": {
    "_cell_guid": "f7260229-7690-422a-89c8-025b2537d9f5",
    "_uuid": "4fbcfcd9973dc7706b6fcba69b4c0a5f0f79a8db"
   },
   "source": [
    "Обнаруживаем, что категория \"S\" содержит максимальное количество пассажиров. Посему, заменяем пустые значения \"nan\" значением \"S\"."
   ]
  },
  {
   "cell_type": "code",
   "execution_count": null,
   "metadata": {
    "_cell_guid": "f3b74da1-6418-4213-aaa1-efb6dc162580",
    "_uuid": "dd11044ef91ce8b686c4688f301aa6d4abae1476",
    "tags": []
   },
   "outputs": [],
   "source": [
    "for dataset in train_test_data:\n",
    "    dataset['Embarked'] = dataset['Embarked'].fillna('S')"
   ]
  },
  {
   "cell_type": "code",
   "execution_count": null,
   "metadata": {
    "_cell_guid": "30a61312-6373-4b92-8c3c-1ab96620c757",
    "_uuid": "dadc45a6f68494a509092cbbe9f29cf3b3432571",
    "tags": []
   },
   "outputs": [],
   "source": [
    "train.head()"
   ]
  },
  {
   "cell_type": "markdown",
   "metadata": {
    "_cell_guid": "1fc3ba42-153a-4c96-b8ff-b656ce445f35",
    "_uuid": "01595b0900cd0b1452d5638eddd41203bc9e2e49"
   },
   "source": [
    "Теперь можно произвести преобразование и првиести значение *Embarked* к численному виду. Ставим в соответствие 0 - \"S\", 1 - \"C\" и 2 - \"Q\"."
   ]
  },
  {
   "cell_type": "code",
   "execution_count": null,
   "metadata": {
    "_cell_guid": "cf4a8a17-0b60-4a7e-9e29-3559010cefdc",
    "_uuid": "85a04185f2cda70415d8b42310da0c4480d414cd",
    "tags": []
   },
   "outputs": [],
   "source": [
    "for dataset in train_test_data:\n",
    "    #print(dataset.Embarked.unique())\n",
    "    dataset['Embarked'] = dataset['Embarked'].map( {'S': 0, 'C': 1, 'Q': 2} ).astype(int)"
   ]
  },
  {
   "cell_type": "code",
   "execution_count": null,
   "metadata": {
    "_cell_guid": "b9af8b8e-c49b-4153-af2a-f8ce8154d480",
    "_uuid": "d9775bdf8ffeb053308940ec511453238f5d0e5d",
    "tags": []
   },
   "outputs": [],
   "source": [
    "train.head()"
   ]
  },
  {
   "cell_type": "markdown",
   "metadata": {
    "_cell_guid": "271dc54c-dfb3-48b8-adde-42453174571c",
    "_uuid": "6927d280668356a48244e98dec5a390d6440d1a6"
   },
   "source": [
    "#### Age\n",
    "\n",
    "Сначала заполняем все пустые (NULL) значение возраста (*Age*) произвольным числом их диапазона от (mean_age - std_age) и до (mean_age + std_age). \n",
    "\n",
    "После создадим новый столбец и назовем его *AgeBand*. Он будет содержать категоризированное значение возраста, распределенное по 5ти разным группам."
   ]
  },
  {
   "cell_type": "code",
   "execution_count": null,
   "metadata": {
    "_cell_guid": "1516efcc-9d6b-4115-a2f3-5f760b203371",
    "_uuid": "706fb1030c6bb52c45fd622849bf5daf0b5fa793",
    "tags": []
   },
   "outputs": [],
   "source": [
    "for dataset in train_test_data:\n",
    "    age_avg = dataset['Age'].mean()\n",
    "    age_std = dataset['Age'].std()\n",
    "    age_null_count = dataset['Age'].isnull().sum()\n",
    "    \n",
    "    age_null_random_list = np.random.randint(age_avg - age_std, age_avg + age_std, size=age_null_count)\n",
    "    dataset['Age'][np.isnan(dataset['Age'])] = age_null_random_list\n",
    "    dataset['Age'] = dataset['Age'].astype(int)\n",
    "    \n",
    "train['AgeBand'] = pd.cut(train['Age'], 5)\n",
    "\n",
    "print (train[['AgeBand', 'Survived']].groupby(['AgeBand'], as_index=False).mean())"
   ]
  },
  {
   "cell_type": "code",
   "execution_count": null,
   "metadata": {
    "_cell_guid": "63e5e575-379e-44ec-8449-c2c72538dc16",
    "_uuid": "16e72857d0ccd8172ac006dfde55acbf72743126",
    "tags": []
   },
   "outputs": [],
   "source": [
    "train.head()"
   ]
  },
  {
   "cell_type": "markdown",
   "metadata": {
    "_cell_guid": "95d96d3d-4ac0-4da0-b7d1-906b647a446a",
    "_uuid": "d06b6cd287f56d29e5df18c4a24fee52b48561a2"
   },
   "source": [
    "Теперь ставим в соответствие каждому (*Age*) группу возрастов (*AgeBand*).\n",
    "\n",
    ">*Цель данной операции* - сократить множество возможных значений возрастов. Иначе это усложнит работу алгоритма, т.к. он (алгоритм) будет вынужден ориентироваться на конкретные значения возрастов при производстве прогнозных значений. Это для задачи не так существенно, т.к. с точки зрения влияние на признак *Survived* м.б. не так важно, сколько лет было пассажиру - 61 или 62 (например)."
   ]
  },
  {
   "cell_type": "code",
   "execution_count": null,
   "metadata": {
    "_cell_guid": "0bf2eb65-a503-4b7b-b6ed-f7630f743128",
    "_uuid": "06f9edf03be1590c46cf35d2f0e59ff7354931d5",
    "tags": []
   },
   "outputs": [],
   "source": [
    "for dataset in train_test_data:\n",
    "    dataset.loc[ dataset['Age'] <= 16, 'Age'] = 0\n",
    "    dataset.loc[(dataset['Age'] > 16) & (dataset['Age'] <= 32), 'Age'] = 1\n",
    "    dataset.loc[(dataset['Age'] > 32) & (dataset['Age'] <= 48), 'Age'] = 2\n",
    "    dataset.loc[(dataset['Age'] > 48) & (dataset['Age'] <= 64), 'Age'] = 3\n",
    "    dataset.loc[ dataset['Age'] > 64, 'Age'] = 4\n",
    "    \n",
    "train.head()"
   ]
  },
  {
   "cell_type": "markdown",
   "metadata": {
    "_cell_guid": "a9370969-d15e-41e5-8d8a-a2911be82bcd",
    "_uuid": "7e66f23c0a159e81af26ad26f30be650ed536b0c"
   },
   "source": [
    "#### Fare\n",
    "\n",
    "Заменяем пропущенные значения *Fare* усредненными/медианными значениями *Fare*.\n",
    "\n",
    "> Здесь и ранее - идея заменять пропущенные значения какими-то усредненными величинами обосновывается стремлением оставить распределение а данных примерно таким же, и не генерировать граничных/экстремальных значений, т.к. подобные выбросы могли бы увести алгоритмы прогнозирования в сторону от реального решения, давая не существующие ориентиры (например если бы мы заменили значение *Fare* - экстремально большим/малым значением по отношению к другим, и *Survived* был бы 1/0, то это дало бы ложный след для алгортимов машинного обучения, что надо увеличивать вес и значимость признака *Fare*, хотя на самом деле просто так совпало)\n"
   ]
  },
  {
   "cell_type": "code",
   "execution_count": null,
   "metadata": {
    "_cell_guid": "62b322e7-016c-4323-adec-a1fead11466c",
    "_uuid": "590d8b4773ecf29874718564b9b97b980a0708f0",
    "tags": []
   },
   "outputs": [],
   "source": [
    "for dataset in train_test_data:\n",
    "    dataset['Fare'] = dataset['Fare'].fillna(train['Fare'].median())"
   ]
  },
  {
   "cell_type": "markdown",
   "metadata": {
    "_cell_guid": "2e1e9e3c-56ae-440b-8f92-4ca9a4a11153",
    "_uuid": "50ef8daee9e0fb26f5b86d68dbb30d1b0d6fd894"
   },
   "source": [
    "Создаем столбец *FareBand*. Разделяем значения *Fare* на 4 категории."
   ]
  },
  {
   "cell_type": "code",
   "execution_count": null,
   "metadata": {
    "_cell_guid": "2e24576a-312c-43aa-baa6-e48e3a1f056f",
    "_uuid": "382dd35f80426fc77cdc779a705dad0705229c4b",
    "scrolled": true,
    "tags": []
   },
   "outputs": [],
   "source": [
    "train['FareBand'] = pd.qcut(train['Fare'], 4)\n",
    "print (train[['FareBand', 'Survived']].groupby(['FareBand'], as_index=False).mean())"
   ]
  },
  {
   "cell_type": "code",
   "execution_count": null,
   "metadata": {
    "_cell_guid": "9f55c49f-605c-48ed-a648-0501afe7dcb7",
    "_uuid": "6d9df3a6f8392d59ff50706ede566d9ffcee1a23",
    "tags": []
   },
   "outputs": [],
   "source": [
    "train.head()"
   ]
  },
  {
   "cell_type": "markdown",
   "metadata": {
    "_cell_guid": "6db348b4-96a6-44c6-bdaa-14a9644dc7ff",
    "_uuid": "1b3fd602c23619ab5a973ce5e8cb9660a6016da3"
   },
   "source": [
    "Делаем маппинг между *Fare* и *FareBand*"
   ]
  },
  {
   "cell_type": "code",
   "execution_count": null,
   "metadata": {
    "_cell_guid": "28e18cd6-8d10-4530-b7bf-0462876d5d7c",
    "_uuid": "5474b0a55f53bd445c24d3cebe7d50ada7227f4c",
    "tags": []
   },
   "outputs": [],
   "source": [
    "for dataset in train_test_data:\n",
    "    dataset.loc[ dataset['Fare'] <= 7.91, 'Fare'] = 0\n",
    "    dataset.loc[(dataset['Fare'] > 7.91) & (dataset['Fare'] <= 14.454), 'Fare'] = 1\n",
    "    dataset.loc[(dataset['Fare'] > 14.454) & (dataset['Fare'] <= 31), 'Fare']   = 2\n",
    "    dataset.loc[ dataset['Fare'] > 31, 'Fare'] = 3\n",
    "    dataset['Fare'] = dataset['Fare'].astype(int)\n",
    "    \n",
    "train.head()"
   ]
  },
  {
   "cell_type": "markdown",
   "metadata": {
    "_cell_guid": "4a2021aa-ad7a-4830-a0f2-3e6110507888",
    "_uuid": "582c8177544b578de50477b9e3b77f158345343a"
   },
   "source": [
    "#### SibSp & Parch\n",
    "\n",
    "[ ] - сделать самостоятельно: создать на базе *SibSp* и *Parch* новый признак, отражающий размер семьи - *FamilySize*."
   ]
  },
  {
   "cell_type": "code",
   "execution_count": null,
   "metadata": {
    "_cell_guid": "81ad7a51-4bcd-40db-8595-beea82b06988",
    "_uuid": "cf748a44aca2d6721190fd6d10fdaf9ff20baa82",
    "tags": []
   },
   "outputs": [],
   "source": [
    "for dataset in train_test_data:\n",
    "    dataset['FamilySize'] = dataset['SibSp'] +  dataset['Parch'] + 1\n",
    "\n",
    "print (train[['FamilySize', 'Survived']].groupby(['FamilySize'], as_index=False).mean())"
   ]
  },
  {
   "cell_type": "markdown",
   "metadata": {
    "_cell_guid": "85b6c9eb-21d6-4594-aef9-fc9fb8848baa",
    "_uuid": "f9257731b8413c0e93aa27a6b50e2ad34767ee23"
   },
   "source": [
    "[ ] - Самостоятельно: проанализировать влияение полученного признака"
   ]
  },
  {
   "cell_type": "markdown",
   "metadata": {},
   "source": [
    "About data shows that: \n",
    "\n",
    "- Having *FamilySize* upto 4 (from 2 to 4) has better survival chance. \n",
    "- *FamilySize = 1*, i.e. travelling alone has less survival chance.\n",
    "- Large *FamilySize* (size of 5 and above) also have less survival chance."
   ]
  },
  {
   "cell_type": "markdown",
   "metadata": {
    "_cell_guid": "7fd8b4ff-489a-4a71-999f-53c55dc7c445",
    "_uuid": "b2eb916068797b5d0b0eea1eed17cef38c75ff81"
   },
   "source": [
    "[ ] Самостоятельно - разработать новый признак *IsAlone*. Проанализировать, как значение данного признака влияет на шанс спасения, по сравнению с пассажирами с *FamilySize*."
   ]
  },
  {
   "cell_type": "code",
   "execution_count": null,
   "metadata": {
    "_cell_guid": "ddbed4aa-fb9a-4a7f-adec-0a4a37c3823d",
    "_uuid": "8fd03222fb70effff47a2124bf6744965a98faad",
    "tags": []
   },
   "outputs": [],
   "source": [
    "for dataset in train_test_data:\n",
    "    dataset['IsAlone'] = 0\n",
    "    dataset.loc[dataset['FamilySize'] == 1, 'IsAlone'] = 1\n",
    "    \n",
    "print (train[['IsAlone', 'Survived']].groupby(['IsAlone'], as_index=False).mean())"
   ]
  },
  {
   "cell_type": "markdown",
   "metadata": {
    "_cell_guid": "7fb0810f-9f4c-4c63-bafd-5d2c95afeb88",
    "_uuid": "7481b97261d0e6f6f4eac75e44e01ed5185f5f3c"
   },
   "source": [
    "Что показывает, что путешествующие водиночку имеют лишь 30% шанс на спасение."
   ]
  },
  {
   "cell_type": "code",
   "execution_count": null,
   "metadata": {
    "_cell_guid": "44e2e673-679c-44c8-85d1-5ec6d4d62836",
    "_uuid": "856b6ff45680c53d71decab72558c84e08b7aa59",
    "scrolled": true,
    "tags": []
   },
   "outputs": [],
   "source": [
    "train.head(1)"
   ]
  },
  {
   "cell_type": "code",
   "execution_count": null,
   "metadata": {
    "_cell_guid": "2f5b832c-76ea-4164-85f8-05a26670e7fc",
    "_uuid": "576af5bcf12fa1bf91c6aae882a13d472c98fc3a",
    "tags": []
   },
   "outputs": [],
   "source": [
    "test.head(1)"
   ]
  },
  {
   "cell_type": "markdown",
   "metadata": {
    "_cell_guid": "c3e1351c-621a-4955-923a-9abffc0a529a",
    "_uuid": "9178b8bffc1b4402e8517dfe78edcbd7bf40d562"
   },
   "source": [
    "### Отбор признаков\n",
    "\n",
    "Убираем ненужные столбцы/признаки и сохраняем только те, который будем использовать в эксперименте прогнозирования. Столбец *PassengerId* удаляется только из тренировочного датасета, посколько в Тестовом датасете нужно будет формировать отчет PassengerId - Survived при отправке файла с результатами в Kaggle."
   ]
  },
  {
   "cell_type": "code",
   "execution_count": null,
   "metadata": {
    "_cell_guid": "775a70ed-3af7-455c-98fa-0728489e724b",
    "_uuid": "22dc74fc3b370d26b2cc086ad4a06894c912ec96",
    "tags": []
   },
   "outputs": [],
   "source": [
    "features_drop = ['Name', 'SibSp', 'Parch', 'Ticket', 'Cabin', 'FamilySize']\n",
    "train = train.drop(features_drop, axis=1)\n",
    "test = test.drop(features_drop, axis=1)\n",
    "train = train.drop(['PassengerId', 'AgeBand', 'FareBand'], axis=1)"
   ]
  },
  {
   "cell_type": "code",
   "execution_count": null,
   "metadata": {
    "_cell_guid": "5a77dfbc-2210-49a5-9e44-4e0f5c96c607",
    "_uuid": "88aee9397e4a7987db1eb51f0effa8e3575d2b9d",
    "tags": []
   },
   "outputs": [],
   "source": [
    "train.head()"
   ]
  },
  {
   "cell_type": "code",
   "execution_count": null,
   "metadata": {
    "_cell_guid": "5c36b0c6-3ebf-4483-92ac-44fcd285533f",
    "_uuid": "1da0127150f750ac82d4b24fda39269c8b17fb7b",
    "tags": []
   },
   "outputs": [],
   "source": [
    "test.head()"
   ]
  },
  {
   "cell_type": "markdown",
   "metadata": {},
   "source": [
    "Снова построим матрицу корреляци признаков"
   ]
  },
  {
   "cell_type": "code",
   "execution_count": null,
   "metadata": {
    "tags": []
   },
   "outputs": [],
   "source": [
    "plt.figure(figsize=(15,6))\n",
    "sns.heatmap(train.corr(), vmax=0.6, square=True, annot=True)"
   ]
  },
  {
   "cell_type": "markdown",
   "metadata": {
    "_cell_guid": "65c074a8-55da-485c-87b9-14cb48f9ceaf",
    "_uuid": "5dca5b0e71d6e75f1a5a30ea4d7a707c546a498b"
   },
   "source": [
    "## Моделирование <a class=\"anchor\" id=\"title3\"></a>\n",
    "\n",
    "В этом разделе проводим моделирование дыннах, строим модели предсказания и пробуем разные алгоритмы. Для каждого из применямых алгоритмов необходимо определить точность его работы на тестовой выборке после обучения на тренировочном наборе. Это даст нам возможность выбрать наиболее подходящий алгоритм/модель для дальнейшей работы и предсказания финальных результатов\n",
    "\n",
    "### Классификация и Точность\n",
    "\n",
    "Данная задача относится к классу задач по классификации данных. Т.к. цель предсказания - определить 0 или 1 в зависимости от того, удастся ли спастись пассажиру или нет. Таким образом имеем задачу *бинарной классификации*, когда выбора делается из 2 возможных исходов и необходимо отнести запись в тестовом наборе к одному из двух классов - 0 или 1.\n",
    "\n",
    "Для начала определим тренировочный и тестовые наборы. Обычно семантика переменных следующая, посколько результат вычисления - это (одна) величина, то на выходе алгоритма мы получим вектор ответов ```y```, определяемый по набору передаваемых признаков (это уже матрица) - ```X```. Т.о. ```y = F(X)```, такая запись справедлива для любых алгоритмов/моделей. Соответственно вводим переменные (новые, полученный копированием данных из существующих загруженных датасетов ```train``` и ```test``` - их мы не трогаем!):\n",
    "  - ```X_train``` - признаки (те, которые мы решили использовать для обучения) из оригинанльного тренировочного набора\n",
    "  - ```y_train``` - ответы из оригинального тренировочного набора, соответсвующие признакам ```X_train```\n",
    "  - ```X_test``` - признаки из тестового набора (это новые записи, которые мы **НЕ** используем в процессе обучения)\n",
    "  - ```y_test``` - его еще нет, нам как раз и надо его найти \n",
    "\n",
    "Размерности и структура ```X_train``` и ```X_test``` должны совпадать, т.к. после проведенного обучения алгоритм ```F(X)``` должен оперировать данными одинакового вида."
   ]
  },
  {
   "cell_type": "code",
   "execution_count": null,
   "metadata": {
    "_cell_guid": "4a7fb5d4-57a0-439d-b974-a009f07a2288",
    "_uuid": "e4417789a18e4981acc484d4fdda7abfadd1b167",
    "tags": []
   },
   "outputs": [],
   "source": [
    "X_train = train.drop('Survived', axis=1)\n",
    "y_train = train['Survived']\n",
    "\n",
    "y_test = test['Survived']\n",
    "X_test = test.drop(\"Survived\", axis=1).drop(\"PassengerId\", axis=1)\n",
    "\n",
    "\n",
    "X_train.shape, y_train.shape, X_test.shape, y_test.shape"
   ]
  },
  {
   "cell_type": "markdown",
   "metadata": {
    "_cell_guid": "ddb2dc44-46f1-4e52-aec8-736e816e8546",
    "_uuid": "209d268ae2b591a65d7c0f1e699e9d80092779b7"
   },
   "source": [
    "Существует большое количество алгоритмов классификации. Среди них выбираем следующие для решения поставленной задачи:\n",
    "\n",
    "- Логистическая регрессия (Logistic Regression)\n",
    "- Метод опорных векторов (Support Vector Machines (SVM))\n",
    "- Linear SVC\n",
    "- К-ближайших соседей (k-Nearest Neighbor (KNN))\n",
    "- Решающие деревья (Decision Tree)\n",
    "- Random Forest\n",
    "- Naive Bayes (GaussianNB)\n",
    "- Perceptron\n",
    "- Stochastic Gradient Descent (SGD)\n",
    "\n",
    "Процедура тренировки и проверки выглядит следующим образом:\n",
    "\n",
    "> Во-первых, тренируем классификаторы на базе тренировочного набора. \n",
    ">\n",
    "> После этого, используя натренированный классификатор, даем прогноз значения *Survival* по тестовым данным.\n",
    ">\n",
    "> В конце, рассчитывает метрики точности (accuracy score (in percentange)) натренированного классификатора.\n",
    "\n",
    "***Замечанеи:*** that the accuracy score is generated based on our training dataset."
   ]
  },
  {
   "cell_type": "code",
   "execution_count": null,
   "metadata": {
    "_cell_guid": "faf9c5bc-3c61-4fdf-aa58-d56a1749d1d2",
    "_uuid": "9c04167fa2131653ae6a64f6422fa1d994583e28",
    "tags": []
   },
   "outputs": [],
   "source": [
    "# Importing Classifier Modules\n",
    "from sklearn.linear_model import LogisticRegression\n",
    "from sklearn.svm import SVC, LinearSVC\n",
    "from sklearn.neighbors import KNeighborsClassifier\n",
    "from sklearn.tree import DecisionTreeClassifier\n",
    "from sklearn.ensemble import RandomForestClassifier\n",
    "from sklearn.naive_bayes import GaussianNB\n",
    "from sklearn.linear_model import Perceptron\n",
    "from sklearn.linear_model import SGDClassifier"
   ]
  },
  {
   "cell_type": "markdown",
   "metadata": {
    "_cell_guid": "881abf5b-0364-4413-9377-15f4c4904dcd",
    "_uuid": "ce90eb99b14ee9a0069bdbb0c964844069189565"
   },
   "source": [
    "### Логистическая регрессия\n",
    "\n",
    "[Logistic regression](https://en.wikipedia.org/wiki/Logistic_regression) (or logit regression, or logit model) -- регрессионная модель, где зависимая величиная (DV) является категориальной. Данная статья описывает случай бинарной зависимой величины, где она может применять только 2 значения, \"0\" и \"1\", которые представляют ответы вида успешно/нет, выигрыш/проигрыш, живой/мертый или здоровый/больной. Случаи когда зависимая величина имеет более 2 значений могут анализироваться с помощью мультиноминальной логистрического регрессии (multinomial logistic regression), или, если различные категории являются упорядоченными. то с помощью моделт упорядоченного выбора (ordinal logistic regression)."
   ]
  },
  {
   "cell_type": "code",
   "execution_count": null,
   "metadata": {
    "tags": []
   },
   "outputs": [],
   "source": [
    "X_test"
   ]
  },
  {
   "cell_type": "code",
   "execution_count": null,
   "metadata": {
    "tags": []
   },
   "outputs": [],
   "source": [
    "X_test"
   ]
  },
  {
   "cell_type": "code",
   "execution_count": null,
   "metadata": {
    "_cell_guid": "029c77b6-4d4d-4a5c-9fd5-6dce078f6047",
    "_uuid": "2765423b8485d704a6500b6fa13630aaf7a8bf56",
    "tags": []
   },
   "outputs": [],
   "source": [
    "clf = LogisticRegression()\n",
    "clf.fit(X_train, y_train)\n",
    "y_pred_log_reg = clf.predict(X_test)\n",
    "acc_log_reg = round( clf.score(X_train, y_train) * 100, 2)\n",
    "print (str(acc_log_reg) + ' percent')"
   ]
  },
  {
   "cell_type": "markdown",
   "metadata": {
    "_cell_guid": "4ae5fc53-14b1-474f-be38-83fb052ece45",
    "_uuid": "119941500237185d1760611c79a385b8f8b8c863"
   },
   "source": [
    "### Support Vector Machine (SVM)\n",
    "\n",
    "[Support Vector Machine (SVM)](https://en.wikipedia.org/wiki/Support_vector_machine), метод опорных векторов - это пример модели обучения с Учителем, используемая для классификационного и регрессионного анализов. Они представляют данные, в виде точек на области, рассатавленных таким образом, что значения из разных категорий явно разделены между собой промежутком как можно наиболее широким. Новые значения (сэмплы из выборок) впоследствии соотносятся с этой областью и прогнозируются на принадлежность к какой-либо из категории, в зависимости от того с какой стороны промежутка они находятся.\n",
    "\n",
    "Вдополнение к реализации линейной классификции, SVM может эффективно решать задачи нелинейной классификации, используя специальный прием при работе с ядром, явно соотнося входные значения в много-мерное пространство признаков. Предположим, есть некоторые данные (описываемые в виде точек), принаддежающие одному из двух (возможных) классов, цель - определить к какому из двух классов будет принадлежать (новая) точка или сэмпл. В случае метода опорных векторов, точка отображается как $p$-мерный вектор (список из $p$ индексов), и необходимо узнать можем ли мы разделить такие точки с помощью $(p-1)$-мерной гиперплоскостью.\n",
    "\n",
    "Кто данные не промаркированы (нет label), то обучение с учителем проводить нелья (*естественно!* кэп) и требуется иной подход -- обучение без учителя, с помощью которого делаются попытки найти естественное разделение данных на группы (классы) и затем относить новые данные (=сэмплы, точки) к этим сформированным группам. Алгоритм разделения (кластеризации) который улучшает метод опорных векторов называется - **support vector clustering** и часто используется в промышленном применении и когда данные не размечены или когда только некоторые данные размечены (в результате предобработки например).\n",
    "\n",
    "В примере кода ниже, [SVC](http://scikit-learn.org/stable/modules/generated/sklearn.svm.SVC.html) реализаует метод опорных векторов для задачи классификации."
   ]
  },
  {
   "cell_type": "code",
   "execution_count": null,
   "metadata": {
    "_cell_guid": "d13b0dbd-df95-4d88-9472-ace2467cdff5",
    "_uuid": "e87de37a054831cbb12e6606dbaa4a965ce2300a",
    "tags": []
   },
   "outputs": [],
   "source": [
    "clf = SVC()\n",
    "clf.fit(X_train, y_train)\n",
    "y_pred_svc = clf.predict(X_test)\n",
    "acc_svc = round(clf.score(X_train, y_train) * 100, 2)\n",
    "print (acc_svc)"
   ]
  },
  {
   "cell_type": "markdown",
   "metadata": {
    "_cell_guid": "784567c8-ecdb-4ce1-950c-7e131eaa54ae",
    "_uuid": "3a761d16c6293104723624111be94a4f3ede840d"
   },
   "source": [
    "### Линейный SVM\n",
    "\n",
    "Линейный SVM -- модель SVM с линейным ядром.\n",
    "\n",
    "Код ниже [LinearSVC](http://scikit-learn.org/stable/modules/generated/sklearn.svm.LinearSVC.html) реалиазует линейную классификацию через опорные векторы."
   ]
  },
  {
   "cell_type": "code",
   "execution_count": null,
   "metadata": {
    "_cell_guid": "8cc5193c-3021-4c24-9527-816b695081fc",
    "_uuid": "5445353ecd9c48fd21928ded1fcf7e2a1b7d6106",
    "tags": []
   },
   "outputs": [],
   "source": [
    "clf = LinearSVC()\n",
    "clf.fit(X_train, y_train)\n",
    "y_pred_linear_svc = clf.predict(X_test)\n",
    "acc_linear_svc = round(clf.score(X_train, y_train) * 100, 2)\n",
    "print (acc_linear_svc)"
   ]
  },
  {
   "cell_type": "markdown",
   "metadata": {
    "_cell_guid": "c801115a-e960-443b-a148-24380f359da7",
    "_uuid": "d228198cb82b4855b5dab0c0eed5eb41f6d66d02"
   },
   "source": [
    "### $k$ - ближайших соседей\n",
    "\n",
    "[Алгоритм $k$-ближайших соседей (k-NN)](https://en.wikipedia.org/wiki/K-nearest_neighbors_algorithm) это один из самых простых алгоритмов машинного обучения и используется и как для задачи классификации, так и для задачи регрессии. В обоих случаях, входных данные состояит из $k$ ближайших точек в пространстве признаков. Результаты зависят от того используется ли $k$-NN для задачи классификации или регрессии:\n",
    "\n",
    "- In *$k$-NN classification*, the output is a class membership. An object is classified by a majority vote of its neighbors, with the object being assigned to the class most common among its $k$ nearest neighbors ($k$ is a positive integer, typically small). If $k = 1$, then the object is simply assigned to the class of that single nearest neighbor.\n",
    "\n",
    "\n",
    "- In *$k$-NN regression*, the output is the property value for the object. This value is the average of the values of its $k$ nearest neighbors."
   ]
  },
  {
   "cell_type": "code",
   "execution_count": null,
   "metadata": {
    "_cell_guid": "de79167e-d6bf-4e73-8780-f26282f1f630",
    "_uuid": "6db9e2c10401eba03540f09c318b1332380eb800",
    "tags": []
   },
   "outputs": [],
   "source": [
    "clf = KNeighborsClassifier(n_neighbors = 3)\n",
    "clf.fit(X_train, y_train)\n",
    "y_pred_knn = clf.predict(X_test)\n",
    "acc_knn = round(clf.score(X_train, y_train) * 100, 2)\n",
    "print (acc_knn)"
   ]
  },
  {
   "cell_type": "markdown",
   "metadata": {
    "_cell_guid": "ffc9640a-6839-4c8d-9729-3bb4a5ec72e2",
    "_uuid": "c5b7ef00bca6806aa76793112fdb1f2668ccd6b2"
   },
   "source": [
    "### Решающие деревья (или дерево решений, decision tree)\n",
    "\n",
    "[Дерево решений](https://en.wikipedia.org/wiki/Decision_tree) это струткура похожая на последовательность вычислений в которой каждый вычисляющий узел (нода) содержит некую проверку/сравнение/тест какого-либо атрибута или признака, каждая ветвь представляет результат теста, а каждый лист представляет ответ(class label) - решение, принимаемоем после прохождения всего алгоритма. Путь от корневрого узла (самой первой проверки) до листа представляет собой набор классификационных правил."
   ]
  },
  {
   "cell_type": "code",
   "execution_count": null,
   "metadata": {
    "_cell_guid": "d83b24f6-f4ad-4b23-a853-c25ac017e195",
    "_uuid": "cb309b92c4833148cdd3588bfc1bc1ee923544d0",
    "tags": []
   },
   "outputs": [],
   "source": [
    "clf = DecisionTreeClassifier()\n",
    "clf.fit(X_train, y_train)\n",
    "y_pred_decision_tree = clf.predict(X_test)\n",
    "acc_decision_tree = round(clf.score(X_train, y_train) * 100, 2)\n",
    "print (acc_decision_tree)"
   ]
  },
  {
   "cell_type": "markdown",
   "metadata": {
    "_cell_guid": "9434e168-98fd-4258-b23c-6f06a3e6f6e1",
    "_uuid": "5fc894614278153dcb2076f1116ddfae7316bd36"
   },
   "source": [
    "### Случайный лес (random forest)\n",
    "\n",
    "[Случайный лес](https://en.wikipedia.org/wiki/Random_forest) или **лес случайных решений** - это способ обучения/ссотавления ансабля решений **ensemble learning method** для задач классификации, регрессии и других, который выполнеяет за счет создания множества решеющих деревьев во время обучения и выведения класса, являющегося модой (для задач классификации) или усредненам прогнозом (для задач регрессии), по отдельным деревьям. Леса случайных решений корректируют склонность Деревьев Решений Random соответствовать их обучающему набору (overfitting).\n",
    "\n",
    "[Методы ассебмлирования](https://en.wikipedia.org/wiki/Ensemble_learning) используют несколько обучающих алгоритмов для получения лучшей эффектвиности прогнозирования, чем можно было бы получить с помощью любого из составляющих алгоритмов обучения."
   ]
  },
  {
   "cell_type": "code",
   "execution_count": null,
   "metadata": {
    "_cell_guid": "4290fc8d-4fa0-489a-a42b-3e60d05ed863",
    "_uuid": "7b002b287478456f41daa294acaf5325147596bb",
    "tags": []
   },
   "outputs": [],
   "source": [
    "clf = RandomForestClassifier(n_estimators=100)\n",
    "clf.fit(X_train, y_train)\n",
    "y_pred_random_forest = clf.predict(X_test)\n",
    "acc_random_forest = round(clf.score(X_train, y_train) * 100, 2)\n",
    "print (acc_random_forest)"
   ]
  },
  {
   "cell_type": "markdown",
   "metadata": {
    "_cell_guid": "53fa45d0-250e-4cd0-9bb2-85cfc8629edd",
    "_uuid": "06ab975e669bca4f31a0cbba2a9c224678937915"
   },
   "source": [
    "### Gaussian Naive Bayes\n",
    "\n",
    "[Наивные Байесовские классификаторы](https://en.wikipedia.org/wiki/Naive_Bayes_classifier)(Naive Bayes classifiers) это семейство простых вероятностных классификаторов, в основе которых лежит применение теоремы Байеса со строгим (=наивным) предположением о незаивисимости между признаками.\n",
    "\n",
    "[Теорема Байеса](https://en.wikipedia.org/wiki/Bayes%27_theorem) описывает веростность события, основываясь на априорном знании условий, которые могут бысть связаны с событием. Например, если заболеваемость раком зависит от возраста, то, следуя теореме Байеса, возраст человека может использоваться для для более точной оценки веростности о наличии рака, по сравнению с оценкой вероятности раки, сделанной без учета (знания) информации о возрасте человека.\n",
    "\n",
    "Naive Bayes - это простая техника создания классификаторов: модели, которые выбирают ответ (label) для конкртеной задачи, поредставляются как вектора значений признаков, в котором метки классов берутся из какого-либо конечного множества. Это не один алгоритм обучения таких классификаторов, а семейчас алгоритмов, основанных на общем принципе: все наивные классификаторы (Байеса) предполагают, что значение определенного признакок не зависит от значений других признаков, заданного переменной класса. Наприме, фрукт может быть признан яблоком, если он красный, круглый и около 10см в диаметре. Наивный Байесовский классификатор предполагает, что каждый из этих признаков вносит свой независимый вклад в вероятность того, что фрукт это яблоко, в независимости от того есть ли какие-то возможные корреляции между (свойствами) цветом, округленностью, и диаметром."
   ]
  },
  {
   "cell_type": "code",
   "execution_count": null,
   "metadata": {
    "_cell_guid": "8febef02-a1ab-4b40-9cc5-7767df03d281",
    "_uuid": "5075f02f520ad56f78c1f396fe0eec9b7fc00730",
    "tags": []
   },
   "outputs": [],
   "source": [
    "clf = GaussianNB()\n",
    "clf.fit(X_train, y_train)\n",
    "y_pred_gnb = clf.predict(X_test)\n",
    "acc_gnb = round(clf.score(X_train, y_train) * 100, 2)\n",
    "print (acc_gnb)"
   ]
  },
  {
   "cell_type": "markdown",
   "metadata": {
    "_cell_guid": "e6136623-8028-409a-b239-6f92c719c2aa",
    "_uuid": "5a40f4e4ff45cf2bf4d9cb19f094acd44d18fc9e"
   },
   "source": [
    "### Перцептрон (perceptron)\n",
    "\n",
    "[Перцептрон](https://en.wikipedia.org/wiki/Perceptron) это вид линейного классификатора, т.е. алгоритма классификации, который дает прогноз, основываясь на линейной функции предсказания, комбинирующей множество весов с вектором признаков (свойств)."
   ]
  },
  {
   "cell_type": "code",
   "execution_count": null,
   "metadata": {
    "_cell_guid": "661dc020-72c4-467d-aaff-388e375b4c7b",
    "_uuid": "ac62f3486a6e8e27fa10642e70dee88b75100c1d",
    "tags": []
   },
   "outputs": [],
   "source": [
    "clf = Perceptron(max_iter=5, tol=None)\n",
    "clf.fit(X_train, y_train)\n",
    "y_pred_perceptron = clf.predict(X_test)\n",
    "acc_perceptron = round(clf.score(X_train, y_train) * 100, 2)\n",
    "print (acc_perceptron)"
   ]
  },
  {
   "cell_type": "markdown",
   "metadata": {
    "_cell_guid": "86c776a1-2842-4aae-b907-301bff298d43",
    "_uuid": "1e8ca383bcccda9343a05579f6079a67a2589e7d"
   },
   "source": [
    "### Стохастический градиентный спуск (SGD)\n",
    "\n",
    "[Метод стохастического градиентного спуска](https://en.wikipedia.org/wiki/Stochastic_gradient_descent) (часто упоминается сокращенно **SGD**), также известный, как метод инрементного градиентного спуска, это стохастическая апроксимация метода оптимизации градиентного спуска по минимизации целевой функции, которая записывается как сумма дифференциируемых функций. Другими словами, SGD пытается итеративно найти минимумы/максимумуы."
   ]
  },
  {
   "cell_type": "code",
   "execution_count": null,
   "metadata": {
    "_cell_guid": "abcc42de-b931-4f6c-a508-ce44608575a9",
    "_uuid": "6b73257f4aad91881fc38f90a4fb0b0aff754ae0",
    "tags": []
   },
   "outputs": [],
   "source": [
    "clf = SGDClassifier(max_iter=5, tol=None)\n",
    "clf.fit(X_train, y_train)\n",
    "y_pred_sgd = clf.predict(X_test)\n",
    "acc_sgd = round(clf.score(X_train, y_train) * 100, 2)\n",
    "print (acc_sgd)"
   ]
  },
  {
   "cell_type": "markdown",
   "metadata": {
    "_cell_guid": "9b657596-31e3-42e8-ab7a-e74acd125844",
    "_uuid": "97826c9676096df94b5518757228fdf8c18c4773"
   },
   "source": [
    "### Матрица неточностей/ошибок (confusion matrix)\n",
    "\n",
    "[Матрица неточностей](https://en.wikipedia.org/wiki/Confusion_matrix), она же матрица ошибок, это специальная таблица, визуализирующая производительность алгоритма. Каждая строка представляет экземпляры из прогнозируемого класса, а каждый столбец предствляет экземпляры в реальном (настоящем) классе, или наоборот. Название связано с тем, что оно позволяет очень просто увидеть если система путает 2 класса (т.к. неправильно помечает один как другой).\n",
    "\n",
    "В прогнозной аналитике, таблица ошибок (= confusion matrix), это таблица из 2х строк и 2х столбцов, которая отображает количество ложных срабатываний (false positives), ложных отрицаний (false negatives),верных срабатываний (true positives), и верных отрицаний (true negatives). Это позволяет проводить более детальную аналитику чем просто сравнивать доли корректных классификаций (точность - accuracy). Точность не является надежной метрикой для отображения реальной производительности классификатора, потому что она приведет к вводящим в заблуждение результатам, в случае несбалансированных данных (то есть в тех случаях когда количество наблюдений в разных классых значительно разнинтся). Например, если в наборе было 95 котов и только 5 собак, а какой-то классификаор может классфицировать все наблюдения как \"коты\". Общая точность будет 95%, но более при более внмиательном рассмотрении окажется, что распонавание проивзодится с 100% точностью для котов и лишь 0% для собак.\n",
    "\n",
    "> В случае задачи бинарной классификации у нас есть только 2 исхода - Истина или Ложь, они соотносятся с Положительными и Отрицательными ответами. Формулировки могут звучать путано, особенно по-русски, но надо запомнить, что это матрица показывает насколько правильно выбирались (=прогнозировались) значения Класса для образцов по отношению к наперед заданным (=реальным, настоящим) значениям.\n",
    "\n",
    "Тут представлено иное объяснение матрицы неточностей [Confusion Matrix with example](http://www.dataschool.io/simple-guide-to-confusion-matrix-terminology/).\n",
    "\n",
    "$\\begin{matrix} & Предсказаны Положительные & Предсказаны Отрицательные \\\\ Настоящие Положительне & TP & FN \\\\ Настоящие Отрицательные & FP & TN \\end{matrix}$\n",
    "\n",
    "Для данной задачи (Титаник), трактовка будет следующей: \n",
    "\n",
    ">**True Positive (TP):** Классификатор предсказал *Survived (=1)* **и** пассажир действительно *Был Спасен (Survived, =1)*.\n",
    ">\n",
    ">**True Negative (TN):** Классификатор предсказал *Not Survived (=0)* **и** пассажиру не удалось спастись *Not Survived*.\n",
    ">\n",
    ">**False Postiive (FP):** Классификатор предсказал *Survived* **но** пассжир в действительности не был спасен *Not Survived*.\n",
    ">\n",
    ">**False Negative (FN):** Классификатор предсказал *Not Survived* **ноt** пассажир был спасен *Survived*."
   ]
  },
  {
   "cell_type": "markdown",
   "metadata": {
    "_cell_guid": "04e2db54-b0ba-4c85-8c50-62cc7acaa248",
    "_uuid": "8658592f1d6034b06f66008c54546e86d7817954"
   },
   "source": [
    "Пример кода нижен строит Матрицу Ошибок для предсказаний, сделанных ***Random Forest Classifier*** на данной тренировочной выборке. Это показывает, как много записей были корректно/не корректно предсказаны данными классификатором."
   ]
  },
  {
   "cell_type": "code",
   "execution_count": null,
   "metadata": {
    "_cell_guid": "c8d4f219-0972-40f3-90f7-1adb133928a4",
    "_uuid": "7361a26b2cab108fcf76aa9c6b0f9d7f5c15635e",
    "tags": []
   },
   "outputs": [],
   "source": [
    "from sklearn.metrics import confusion_matrix\n",
    "import itertools\n",
    "\n",
    "clf = RandomForestClassifier(n_estimators=100)\n",
    "clf.fit(X_train, y_train)\n",
    "y_pred_random_forest_training_set = clf.predict(X_train)\n",
    "acc_random_forest = round(clf.score(X_train, y_train) * 100, 2)\n",
    "print (\"Accuracy: %i %% \\n\"%acc_random_forest)\n",
    "\n",
    "class_names = ['Survived', 'Not Survived']\n",
    "\n",
    "# Compute confusion matrix\n",
    "cnf_matrix = confusion_matrix(y_train, y_pred_random_forest_training_set)\n",
    "\n",
    "cnf_matrix_percent = cnf_matrix.astype('float') / cnf_matrix.sum(axis=1)[:, np.newaxis]\n",
    "\n",
    "\n",
    "true_class_names = ['True Survived', 'True Not Survived']\n",
    "predicted_class_names = ['Predicted Survived', 'Predicted Not Survived']\n",
    "\n",
    "df_cnf_matrix = pd.DataFrame(cnf_matrix, \n",
    "                             index = true_class_names,\n",
    "                             columns = predicted_class_names)\n",
    "\n",
    "df_cnf_matrix_percent = pd.DataFrame(cnf_matrix_percent, \n",
    "                                     index = true_class_names,\n",
    "                                     columns = predicted_class_names)\n",
    "\n",
    "plt.figure(figsize = (15,5))\n",
    "\n",
    "plt.subplot(121)\n",
    "sns.heatmap(df_cnf_matrix, annot=True, fmt='d')\n",
    "\n",
    "plt.subplot(122)\n",
    "sns.heatmap(df_cnf_matrix_percent, annot=True)"
   ]
  },
  {
   "cell_type": "markdown",
   "metadata": {
    "_cell_guid": "04e2db54-b0ba-4c85-8c50-62cc7acaa248",
    "_uuid": "8658592f1d6034b06f66008c54546e86d7817954"
   },
   "source": [
    "Сравним этот результат с каким-нибудь менее удачным."
   ]
  },
  {
   "cell_type": "code",
   "execution_count": null,
   "metadata": {
    "tags": []
   },
   "outputs": [],
   "source": [
    "clf = Perceptron(max_iter=5, tol=None)\n",
    "clf.fit(X_train, y_train)\n",
    "y_pred_perceptron = clf.predict(X_train)\n",
    "acc_perceptron = round(clf.score(X_train, y_train) * 100, 2)\n",
    "print (\"Accuracy: %i %% \\n\"%acc_perceptron)\n",
    "\n",
    "#class_names = ['Survived', 'Not Survived']\n",
    "\n",
    "# Compute confusion matrix\n",
    "cnf_matrix = confusion_matrix(y_train, y_pred_perceptron)\n",
    "cnf_matrix_percent = cnf_matrix.astype('float') / cnf_matrix.sum(axis=1)[:, np.newaxis]\n",
    "\n",
    "#true_class_names = ['True Survived', 'True Not Survived']\n",
    "#predicted_class_names = ['Predicted Survived', 'Predicted Not Survived']\n",
    "\n",
    "df_cnf_matrix = pd.DataFrame(cnf_matrix, \n",
    "                             index = true_class_names,\n",
    "                             columns = predicted_class_names)\n",
    "\n",
    "df_cnf_matrix_percent = pd.DataFrame(cnf_matrix_percent, \n",
    "                                     index = true_class_names,\n",
    "                                     columns = predicted_class_names)\n",
    "\n",
    "plt.figure(figsize = (15,5))\n",
    "\n",
    "ax1 = plt.subplot(121)\n",
    "sns.heatmap(df_cnf_matrix, annot=True, fmt='d')\n",
    "ax1.title.set_text('Perceptron: values')\n",
    "\n",
    "ax2 = plt.subplot(122)\n",
    "sns.heatmap(df_cnf_matrix_percent, annot=True)\n",
    "ax2.title.set_text('Perceptron: %')"
   ]
  },
  {
   "cell_type": "markdown",
   "metadata": {
    "_cell_guid": "41eab8a7-3990-453f-ae70-421764877621",
    "_uuid": "d1fce74d8c032aebdd33263105754713f7b351e1"
   },
   "source": [
    "### Сравнение моделей\n",
    "\n",
    "Давайте сравним точность всех классификаторов, используемых выше."
   ]
  },
  {
   "cell_type": "code",
   "execution_count": null,
   "metadata": {
    "_cell_guid": "d629ddf4-b0dc-4451-9c6d-90835d1d031c",
    "_uuid": "76712bd9dbd7eca3cbfa8ce5d9758f90f99da826",
    "tags": []
   },
   "outputs": [],
   "source": [
    "models = pd.DataFrame({\n",
    "    'Model': ['Logistic Regression', 'Support Vector Machines', 'Linear SVC', \n",
    "              'KNN', 'Decision Tree', 'Random Forest', 'Naive Bayes', \n",
    "              'Perceptron', 'Stochastic Gradient Decent'],\n",
    "    \n",
    "    'Score': [acc_log_reg, acc_svc, acc_linear_svc, \n",
    "              acc_knn,  acc_decision_tree, acc_random_forest, acc_gnb, \n",
    "              acc_perceptron, acc_sgd]\n",
    "    })\n",
    "\n",
    "models.sort_values(by='Score', ascending=False)"
   ]
  },
  {
   "cell_type": "markdown",
   "metadata": {
    "_cell_guid": "ecaca25d-8f42-4645-881f-15f49c71c846",
    "_uuid": "1cc14a9ad87b0a43650197feef30cbd50313f282"
   },
   "source": [
    "Из таблицы выше видно, что *Деревья решений (Decision Tree)* и *Лес решений (Random Forest)* имеют наибольший показатель точности.\n",
    "\n",
    "Для отправки финального решения мы выбираем из этих двоих классификатор *Random Forest* т.к. он может противодействовать или хотя бы ограничить overfitting эффект по сравнению с *Decision Tree* классификатором."
   ]
  },
  {
   "cell_type": "markdown",
   "metadata": {},
   "source": [
    "### Сохранение модели\n"
   ]
  },
  {
   "cell_type": "code",
   "execution_count": null,
   "metadata": {
    "tags": []
   },
   "outputs": [],
   "source": [
    "import pickle\n",
    "\n",
    "clf = DecisionTreeClassifier()\n",
    "clf.fit(X_train, y_train)\n",
    "\n",
    "f = open('project_day_1/test_1/models/model.pkl','wb')\n",
    "pickle.dump(clf,f)\n",
    "    \n",
    "s = pickle.dumps(clf)"
   ]
  },
  {
   "cell_type": "code",
   "execution_count": null,
   "metadata": {},
   "outputs": [],
   "source": []
  },
  {
   "cell_type": "code",
   "execution_count": null,
   "metadata": {},
   "outputs": [],
   "source": []
  },
  {
   "cell_type": "code",
   "execution_count": null,
   "metadata": {},
   "outputs": [],
   "source": []
  }
 ],
 "metadata": {
  "kernelspec": {
   "display_name": "Python 3 (ipykernel)",
   "language": "python",
   "name": "python3"
  },
  "language_info": {
   "codemirror_mode": {
    "name": "ipython",
    "version": 3
   },
   "file_extension": ".py",
   "mimetype": "text/x-python",
   "name": "python",
   "nbconvert_exporter": "python",
   "pygments_lexer": "ipython3",
   "version": "3.10.12"
  }
 },
 "nbformat": 4,
 "nbformat_minor": 4
}
